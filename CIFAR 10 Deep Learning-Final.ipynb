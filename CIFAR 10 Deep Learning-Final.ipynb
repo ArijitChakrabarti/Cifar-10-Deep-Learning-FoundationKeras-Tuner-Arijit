{
 "cells": [
  {
   "attachments": {},
   "cell_type": "markdown",
   "id": "0ed07690",
   "metadata": {},
   "source": [
    "# Object Recognition from  CIFAR 10 images\n",
    "<center><img src=\"https://github.com/ArijitChakrabarti/Cifar-10-Deep-Learning-FoundationKeras-Tuner-Arijit/blob/main/CIFAR-10-intro.jpg?raw=true\" /></center>\n",
    "\n",
    "<h2><center>'One picture is worth a thousand words'</center></h2>\n",
    "<div style=\"text-align: center\"> -Albert Einstein</div><br>\n",
    "\n",
    "***\n",
    "\n",
    "Images somehow just always make sense - as accurately captured by Albert Einstein.  From my initiation into regimented learning of data science I have worked multiple times on the MNIST dataset.  For this project I wanted to take up something a bit more challenging and also build onto the overall knowledge base of image classification.  Further, I wanted to automate the process of identifying the hyper parameters that would build accuracy for an image classification model.\n",
    "<br><br>\n",
    "Armed with these simple points I wanted to find a data-base, which would a step up over  MNIST dataset in terms of difficulty - maybe allowing me to work with color - but not so demanding that I lose focus on the learning outcome of this project.\n",
    "<br><br>\n",
    "After searching high and low I found the CIFAR 10 data-set.  It was beautifully arranged set of .png files, and also existed as a dataset in Keras. However, I wanted to start working directly from the pictures itself (converting the image to an array) and not use the existing data-set.  I was also secure in the knowledge that since the dataset also existed in array form I could always cross-check my data and compare it against the data-set to check for possible errors.  My project contains many such checks to ensure that the data was properly convered to the array.\n",
    "*** \n",
    "<br><br>\n",
    "Hence the project itself can actually be summarized in the following manner:\n",
    "<br><br>\n",
    "- Downloaded the CIFAR - 10 .png images from Kaggle\n",
    "<br><br>\n",
    "- Converted the images to an array\n",
    "<br><br>\n",
    "- Processed the array to make it usable\n",
    "<br><br>\n",
    "- Built multiple models on the data with a close check on accuracy\n",
    "<br>\n",
    "    - A simple Artificial Neural Network model\n",
    "<br>\n",
    "    - A CNN model - built from secondary sources\n",
    "<br>\n",
    "    - Using Keras Tuner to enhance the accuracy on the models leveraging\n",
    "        | Hyperband serach | Random search | Bayesian Optimization | \n",
    "<br><br>\n",
    "- Comparision of the outcomes of the different models "
   ]
  },
  {
   "cell_type": "markdown",
   "id": "87fdec2e",
   "metadata": {},
   "source": [
    "## Table of Contents\n",
    "\n",
    "1. [Importing the necessary libraries and data](#section1)<br>\n",
    "2. [Creating the CIFAR-10 Dataset from Images](#section2)<br>\n",
    "  - 2.1 [Pickling the Image Data](#section201)<br>\n",
    "  - 2.2 [Un-Pickling data for restarts](#section202)<br>\n",
    "3. [Preprocessing the Image Data](#section3)<br>\n",
    "  - 3.1 [Working with Train / Test Labels](#section301)<br>\n",
    "  - 3.2 [Flatenning and Normalizing the data](#section302)<br>\n",
    "  - 3.3 [Preparing separate set for CNN](#section303)<br>\n",
    "4. [Checking Accuracy of Train Data](#section4)<br>\n",
    "5. [Model Building](#section5)<br>\n",
    "  - 5.1 [Simple ANN](#section501)<br>\n",
    "  - 5.2 [Using CNN](#section502)<br>\n",
    "6. [Hyper Parameter Tuning using Keras-Tuner](#section6)<br>\n",
    "  - 6.1 [HyperBand](#section601)<br>\n",
    "  - 6.2 [RandomSearch](#section602)<br>\n",
    "  - 6.3 [Bayesian Optimisation](#section603)<br>\n",
    "7. [In-Conclusion & Next Steps](#section7)<br>\n",
    "  - 7.1 [Analysis of Accuracies of various models](#section701)<br>\n",
    "  - 7.2 [Visualising Predictions on test-set](#section702)<br>\n",
    "  - 7.3 [Concluding points and way forward](#section703)<br>"
   ]
  },
  {
   "cell_type": "markdown",
   "id": "42d00f17",
   "metadata": {},
   "source": [
    "<a id=section1></a>\n",
    "## 1. Importing the necessary libraries and data"
   ]
  },
  {
   "cell_type": "code",
   "execution_count": 1,
   "id": "4555e9d5",
   "metadata": {},
   "outputs": [
    {
     "name": "stdout",
     "output_type": "stream",
     "text": [
      "(10000, 32, 32, 3)\n",
      "(10000, 1)\n"
     ]
    }
   ],
   "source": [
    "# importing the libraries\n",
    "import numpy as np\n",
    "import pandas as pd\n",
    "import os\n",
    "import matplotlib.pyplot as plt \n",
    "import random\n",
    "from PIL import Image\n",
    "\n",
    "import tensorflow as tf\n",
    "from tensorflow import keras\n",
    "from keras.preprocessing.image import load_img, img_to_array\n",
    "from keras.preprocessing.image import array_to_img  #has to be separated from above line for some reason...?\n",
    "from keras.utils import np_utils # for to_categorical,\n",
    "from tensorflow.keras.models import Sequential\n",
    "from tensorflow.keras import layers\n",
    "from tensorflow.keras.layers import Dense, Conv2D, MaxPool2D, Flatten, Dropout, MaxPooling2D\n",
    "from tensorflow.keras.callbacks import EarlyStopping\n",
    "from kerastuner import HyperModel\n",
    "from kerastuner.tuners import Hyperband, RandomSearch, BayesianOptimization\n",
    "\n",
    "#from tensorflow.keras.layers import (Conv2D, Dense, Dropout, Flatten, MaxPooling2D)\n",
    "\n",
    "import pickle\n",
    "\n",
    "# as the Kaggle dataset does not contain proper implementation for the test data set\n",
    "# using test data from the Keras Datasets i.e. x_test and y_test\n",
    "from tensorflow.python.keras.datasets import cifar10\n",
    "(X_train,y_train),(x_test,y_test) = cifar10.load_data()\n",
    "print(x_test.shape)\n",
    "print(y_test.shape)\n",
    "\n",
    "#download the CIFAR-10 dataset from here \n",
    "#https://www.kaggle.com/c/cifar-10"
   ]
  },
  {
   "cell_type": "markdown",
   "id": "0b3043d4",
   "metadata": {},
   "source": [
    "<a id=section2></a>\n",
    "## 1. Creating the CIFAR-10 Dataset from Images"
   ]
  },
  {
   "cell_type": "code",
   "execution_count": 3,
   "id": "47949796",
   "metadata": {},
   "outputs": [
    {
     "name": "stdout",
     "output_type": "stream",
     "text": [
      "C:\\Users\\ariji\\Documents\\Python\\INSAID Data Science\\Artificial Intelligence\\Deep Learning Foundation\\Project\\Deep Learning Foundation Projects\\CIFAR-10\n",
      "C:\\Users\\ariji\\Documents\\Python\\INSAID Data Science\\Artificial Intelligence\\Deep Learning Foundation\\Project\\Deep Learning Foundation Projects\\CIFAR-10\\train\n",
      "C:\\Users\\ariji\\Documents\\Python\\INSAID Data Science\\Artificial Intelligence\\Deep Learning Foundation\\Project\\Deep Learning Foundation Projects\\CIFAR-10\\test\n",
      "(50000, 32, 32, 3)\n",
      "(300000, 32, 32, 3)\n",
      "C:\\Users\\ariji\\Documents\\Python\\INSAID Data Science\\Artificial Intelligence\\Deep Learning Foundation\\Project\\Deep Learning Foundation Projects\\CIFAR-10\n",
      "Back to Main directory\n"
     ]
    }
   ],
   "source": [
    "#create the dataset for analysis\n",
    "\n",
    "directory = os.getcwd()\n",
    "print(directory)\n",
    "train_folder = directory + '\\\\train'\n",
    "test_folder = directory + '\\\\test'\n",
    "os.chdir(train_folder)\n",
    "print(os.getcwd())\n",
    "filenames=[str(i)+'.png' for i in range(1,50001)]\n",
    "x_train = np.array([np.array(img_to_array(load_img(fname))) for fname in filenames])\n",
    "os.chdir(test_folder)\n",
    "print(os.getcwd())\n",
    "filenames=[str(i)+'.png' for i in range(1,300001)]\n",
    "x_test = np.array([np.array(img_to_array(load_img(fname))) for fname in filenames])\n",
    "print(x_train.shape)\n",
    "print(x_test.shape)\n",
    "os.chdir(directory)  #returning back to the main directory\n",
    "print(os.getcwd())\n",
    "print('Back to Main directory')"
   ]
  },
  {
   "cell_type": "markdown",
   "id": "bb8b4342",
   "metadata": {},
   "source": [
    "<a id=section201></a>\n",
    "### 2.1 Pickling the image data"
   ]
  },
  {
   "cell_type": "code",
   "execution_count": 4,
   "id": "d24460c6",
   "metadata": {},
   "outputs": [
    {
     "name": "stdout",
     "output_type": "stream",
     "text": [
      "Train Pickled\n",
      "Test Pickled\n"
     ]
    }
   ],
   "source": [
    "# now pickling the data created - hence this code does not need to be run always\n",
    "\n",
    "with open('train.txt', 'wb') as fh:\n",
    "   pickle.dump(x_train, fh)\n",
    "print('Train Pickled')\n",
    "with open('test.txt', 'wb') as fh:\n",
    "    pickle.dump(x_test, fh)\n",
    "print('Test Pickled')"
   ]
  },
  {
   "cell_type": "markdown",
   "id": "71c51aa5",
   "metadata": {},
   "source": [
    "<a id=section202></a>\n",
    "### 2.2 Un-Pickling data for restarts"
   ]
  },
  {
   "cell_type": "code",
   "execution_count": 2,
   "id": "1354b5ea",
   "metadata": {},
   "outputs": [
    {
     "name": "stdout",
     "output_type": "stream",
     "text": [
      "train data unpickled\n",
      "(50000, 32, 32, 3)\n"
     ]
    }
   ],
   "source": [
    "# when starting with the pickled data\n",
    "# no need to start creating the dataset from scratch\n",
    "\n",
    "unpickle_train = open('train.txt', 'rb')\n",
    "x_train = pickle.load(unpickle_train)\n",
    "print('train data unpickled')\n",
    "print(x_train.shape)"
   ]
  },
  {
   "cell_type": "markdown",
   "id": "cd02e9bd",
   "metadata": {},
   "source": [
    "<a id=section3></a>\n",
    "## 3. Processing the image Data"
   ]
  },
  {
   "cell_type": "markdown",
   "id": "18cd0e0d",
   "metadata": {},
   "source": [
    "<a id=section301></a>\n",
    "### 3.1 Working with the train / test labels"
   ]
  },
  {
   "cell_type": "code",
   "execution_count": 3,
   "id": "8e773b3b",
   "metadata": {},
   "outputs": [
    {
     "name": "stdout",
     "output_type": "stream",
     "text": [
      "(50000,)\n",
      "Post processing train_labels have a shape of (50000, 10) , test_labels have a shape (10000, 10)\n",
      "The 10 categories for classification are:['airplane', 'automobile', 'bird', 'cat', 'deer', 'dog', 'frog', 'horse', 'ship', 'truck']\n"
     ]
    }
   ],
   "source": [
    "#loading the labels\n",
    "\n",
    "# for the y_test set\n",
    "y_train = pd.read_csv('trainlabels.csv')\n",
    "y_train = y_train.label\n",
    "print(y_train.shape)\n",
    "\n",
    "train_labels, test_labels = pd.get_dummies(y_train) , np_utils.to_categorical(y_test)\n",
    "print('Post processing train_labels have a shape of {} , test_labels have a shape {}'.format(train_labels.shape, test_labels.shape))\n",
    "classes = list(train_labels)\n",
    "print('The 10 categories for classification are:{}' .format(classes))"
   ]
  },
  {
   "cell_type": "markdown",
   "id": "5efc5bd3",
   "metadata": {},
   "source": [
    "<a id=section302></a>\n",
    "### 3.2 Flattening and Normalizing the data"
   ]
  },
  {
   "cell_type": "code",
   "execution_count": 4,
   "id": "c698b063",
   "metadata": {},
   "outputs": [
    {
     "name": "stdout",
     "output_type": "stream",
     "text": [
      "(50000, 3072)\n",
      "(10000, 3072)\n"
     ]
    }
   ],
   "source": [
    "#getting the data ready for deep learning flattening and normalising\n",
    "\n",
    "x_train2, x_test2 = x_train.reshape(-1, 32*32*3), x_test.reshape(-1,32*32*3)\n",
    "x_train_norm, x_test_norm = x_train2.astype('float32') /255 , x_test2.astype('float32') /255\n",
    "print(x_train_norm.shape)\n",
    "print(x_test_norm.shape)"
   ]
  },
  {
   "cell_type": "markdown",
   "id": "3513a286",
   "metadata": {},
   "source": [
    "<a id=section303></a>\n",
    "### 3.3 Preparing separate set for CNN"
   ]
  },
  {
   "cell_type": "code",
   "execution_count": 5,
   "id": "4b54dc17",
   "metadata": {},
   "outputs": [
    {
     "name": "stdout",
     "output_type": "stream",
     "text": [
      "(50000, 32, 32, 3) (10000, 32, 32, 3)\n"
     ]
    }
   ],
   "source": [
    "# getting data ready for CNN\n",
    "print(x_train.shape, x_test.shape)\n",
    "\n",
    "#normalizing images by 255\n",
    "\n",
    "x_train_cnn, x_test_cnn = x_train/255, x_test/255"
   ]
  },
  {
   "cell_type": "markdown",
   "id": "76bf493e",
   "metadata": {},
   "source": [
    "<a id=section4></a>\n",
    "### 4. Checking the accuracy of train data"
   ]
  },
  {
   "cell_type": "code",
   "execution_count": 6,
   "id": "1e865025",
   "metadata": {},
   "outputs": [
    {
     "data": {
      "text/plain": [
       "{0: 'airplane',\n",
       " 1: 'automobile',\n",
       " 2: 'bird',\n",
       " 3: 'cat',\n",
       " 4: 'deer',\n",
       " 5: 'dog',\n",
       " 6: 'frog',\n",
       " 7: 'horse',\n",
       " 8: 'ship',\n",
       " 9: 'truck'}"
      ]
     },
     "execution_count": 6,
     "metadata": {},
     "output_type": "execute_result"
    }
   ],
   "source": [
    "# for prediction using the classes\n",
    "nums = [0,1,2,3,4,5,6,7,8,9]\n",
    "p = dict(zip(nums, classes))\n",
    "p"
   ]
  },
  {
   "cell_type": "code",
   "execution_count": 8,
   "id": "87b7dfdf",
   "metadata": {},
   "outputs": [
    {
     "name": "stdout",
     "output_type": "stream",
     "text": [
      "From row -> 15780\n",
      "ship\n"
     ]
    },
    {
     "data": {
      "text/plain": [
       "<matplotlib.image.AxesImage at 0x2adabbf5f08>"
      ]
     },
     "execution_count": 8,
     "metadata": {},
     "output_type": "execute_result"
    },
    {
     "data": {
      "image/png": "[encoded data removed]",
      "text/plain": [
       "<Figure size 432x288 with 1 Axes>"
      ]
     },
     "metadata": {
      "needs_background": "light"
     },
     "output_type": "display_data"
    }
   ],
   "source": [
    "# randomly checking the train data\n",
    "\n",
    "i=random.randint(0,50000)\n",
    "print('From row ->', i)\n",
    "img_frm_data = array_to_img(x_train[i])\n",
    "print(y_train[i])\n",
    "plt.imshow(img_frm_data)"
   ]
  },
  {
   "cell_type": "markdown",
   "id": "19b31e3d",
   "metadata": {},
   "source": [
    "<a id=section5></a>\n",
    "## 5. Model Building"
   ]
  },
  {
   "cell_type": "markdown",
   "id": "311a1c57",
   "metadata": {},
   "source": [
    "<a id=section501></a>\n",
    "### 5.1 Simple ANN"
   ]
  },
  {
   "cell_type": "code",
   "execution_count": 5,
   "id": "99939cea",
   "metadata": {},
   "outputs": [
    {
     "name": "stdout",
     "output_type": "stream",
     "text": [
      "Model: \"sequential\"\n",
      "_________________________________________________________________\n",
      "Layer (type)                 Output Shape              Param #   \n",
      "=================================================================\n",
      "dense (Dense)                (None, 10000)             30730000  \n",
      "_________________________________________________________________\n",
      "dense_1 (Dense)              (None, 10)                100010    \n",
      "=================================================================\n",
      "Total params: 30,830,010\n",
      "Trainable params: 30,830,010\n",
      "Non-trainable params: 0\n",
      "_________________________________________________________________\n",
      "Epoch 1/200\n",
      "98/98 - 2s - loss: 4.8886 - accuracy: 0.2361 - val_loss: 1.8937 - val_accuracy: 0.3222\n",
      "Epoch 2/200\n",
      "98/98 - 1s - loss: 1.8092 - accuracy: 0.3626 - val_loss: 1.7536 - val_accuracy: 0.3712\n",
      "Epoch 3/200\n",
      "98/98 - 1s - loss: 1.7050 - accuracy: 0.3961 - val_loss: 1.6597 - val_accuracy: 0.4095\n",
      "Epoch 4/200\n",
      "98/98 - 1s - loss: 1.6392 - accuracy: 0.4207 - val_loss: 1.6214 - val_accuracy: 0.4293\n",
      "Epoch 5/200\n",
      "98/98 - 1s - loss: 1.6005 - accuracy: 0.4355 - val_loss: 1.5924 - val_accuracy: 0.4354\n",
      "Epoch 6/200\n",
      "98/98 - 1s - loss: 1.5566 - accuracy: 0.4502 - val_loss: 1.5929 - val_accuracy: 0.4339\n",
      "Epoch 7/200\n",
      "98/98 - 1s - loss: 1.5283 - accuracy: 0.4619 - val_loss: 1.5550 - val_accuracy: 0.4551\n",
      "Epoch 8/200\n",
      "98/98 - 1s - loss: 1.5079 - accuracy: 0.4675 - val_loss: 1.5349 - val_accuracy: 0.4597\n",
      "Epoch 9/200\n",
      "98/98 - 1s - loss: 1.4917 - accuracy: 0.4750 - val_loss: 1.4932 - val_accuracy: 0.4754\n",
      "Epoch 10/200\n",
      "98/98 - 1s - loss: 1.4594 - accuracy: 0.4851 - val_loss: 1.4829 - val_accuracy: 0.4753\n",
      "Epoch 11/200\n",
      "98/98 - 1s - loss: 1.4424 - accuracy: 0.4943 - val_loss: 1.4720 - val_accuracy: 0.4786\n",
      "Epoch 12/200\n",
      "98/98 - 1s - loss: 1.4293 - accuracy: 0.4983 - val_loss: 1.4917 - val_accuracy: 0.4724\n",
      "Epoch 13/200\n",
      "98/98 - 1s - loss: 1.4212 - accuracy: 0.5000 - val_loss: 1.4587 - val_accuracy: 0.4881\n",
      "Epoch 14/200\n",
      "98/98 - 1s - loss: 1.4033 - accuracy: 0.5062 - val_loss: 1.4518 - val_accuracy: 0.4832\n",
      "Epoch 15/200\n",
      "98/98 - 1s - loss: 1.3897 - accuracy: 0.5131 - val_loss: 1.4284 - val_accuracy: 0.4954\n",
      "Epoch 16/200\n",
      "98/98 - 1s - loss: 1.3685 - accuracy: 0.5206 - val_loss: 1.4325 - val_accuracy: 0.4908\n",
      "Epoch 17/200\n",
      "98/98 - 1s - loss: 1.3614 - accuracy: 0.5241 - val_loss: 1.4404 - val_accuracy: 0.4871\n",
      "Epoch 18/200\n",
      "98/98 - 1s - loss: 1.3411 - accuracy: 0.5294 - val_loss: 1.4300 - val_accuracy: 0.4936\n",
      "Epoch 19/200\n",
      "98/98 - 1s - loss: 1.3329 - accuracy: 0.5311 - val_loss: 1.4180 - val_accuracy: 0.4969\n",
      "Epoch 20/200\n",
      "98/98 - 1s - loss: 1.3144 - accuracy: 0.5399 - val_loss: 1.4250 - val_accuracy: 0.5024\n",
      "Epoch 21/200\n",
      "98/98 - 1s - loss: 1.3090 - accuracy: 0.5410 - val_loss: 1.4111 - val_accuracy: 0.5007\n",
      "Epoch 22/200\n",
      "98/98 - 1s - loss: 1.2996 - accuracy: 0.5455 - val_loss: 1.4153 - val_accuracy: 0.5004\n",
      "Epoch 23/200\n",
      "98/98 - 1s - loss: 1.2886 - accuracy: 0.5491 - val_loss: 1.3970 - val_accuracy: 0.5085\n",
      "Epoch 24/200\n",
      "98/98 - 1s - loss: 1.2750 - accuracy: 0.5527 - val_loss: 1.3817 - val_accuracy: 0.5133\n",
      "Epoch 25/200\n",
      "98/98 - 1s - loss: 1.2681 - accuracy: 0.5573 - val_loss: 1.3968 - val_accuracy: 0.5094\n",
      "Epoch 26/200\n",
      "98/98 - 1s - loss: 1.2559 - accuracy: 0.5604 - val_loss: 1.3947 - val_accuracy: 0.5100\n",
      "Epoch 27/200\n",
      "98/98 - 1s - loss: 1.2413 - accuracy: 0.5653 - val_loss: 1.3757 - val_accuracy: 0.5156\n",
      "Epoch 28/200\n",
      "98/98 - 1s - loss: 1.2291 - accuracy: 0.5702 - val_loss: 1.3733 - val_accuracy: 0.5133\n",
      "Epoch 29/200\n",
      "98/98 - 1s - loss: 1.2179 - accuracy: 0.5735 - val_loss: 1.3970 - val_accuracy: 0.5101\n",
      "Epoch 30/200\n",
      "98/98 - 1s - loss: 1.2100 - accuracy: 0.5736 - val_loss: 1.3868 - val_accuracy: 0.5120\n",
      "Epoch 31/200\n",
      "98/98 - 1s - loss: 1.2059 - accuracy: 0.5777 - val_loss: 1.3717 - val_accuracy: 0.5166\n",
      "Epoch 32/200\n",
      "98/98 - 1s - loss: 1.1951 - accuracy: 0.5805 - val_loss: 1.3764 - val_accuracy: 0.5144\n",
      "Epoch 33/200\n",
      "98/98 - 1s - loss: 1.1794 - accuracy: 0.5879 - val_loss: 1.3665 - val_accuracy: 0.5218\n",
      "Epoch 34/200\n",
      "98/98 - 1s - loss: 1.1723 - accuracy: 0.5885 - val_loss: 1.3683 - val_accuracy: 0.5206\n",
      "Epoch 35/200\n",
      "98/98 - 1s - loss: 1.1669 - accuracy: 0.5946 - val_loss: 1.3654 - val_accuracy: 0.5209\n",
      "Epoch 36/200\n",
      "98/98 - 1s - loss: 1.1587 - accuracy: 0.5945 - val_loss: 1.3829 - val_accuracy: 0.5148\n",
      "Epoch 37/200\n",
      "98/98 - 1s - loss: 1.1359 - accuracy: 0.6051 - val_loss: 1.3849 - val_accuracy: 0.5191\n",
      "Epoch 38/200\n",
      "98/98 - 1s - loss: 1.1358 - accuracy: 0.6028 - val_loss: 1.3753 - val_accuracy: 0.5220\n",
      "Epoch 39/200\n",
      "98/98 - 1s - loss: 1.1258 - accuracy: 0.6076 - val_loss: 1.3752 - val_accuracy: 0.5172\n",
      "Epoch 40/200\n",
      "98/98 - 1s - loss: 1.1128 - accuracy: 0.6125 - val_loss: 1.3548 - val_accuracy: 0.5314\n",
      "Epoch 41/200\n",
      "98/98 - 1s - loss: 1.1071 - accuracy: 0.6119 - val_loss: 1.3902 - val_accuracy: 0.5086\n",
      "Epoch 42/200\n",
      "98/98 - 1s - loss: 1.1136 - accuracy: 0.6093 - val_loss: 1.3693 - val_accuracy: 0.5244\n",
      "Epoch 43/200\n",
      "98/98 - 1s - loss: 1.0957 - accuracy: 0.6167 - val_loss: 1.4280 - val_accuracy: 0.5127\n",
      "Epoch 44/200\n",
      "98/98 - 1s - loss: 1.0810 - accuracy: 0.6238 - val_loss: 1.3703 - val_accuracy: 0.5234\n",
      "Epoch 45/200\n",
      "98/98 - 1s - loss: 1.0682 - accuracy: 0.6288 - val_loss: 1.3707 - val_accuracy: 0.5224\n",
      "Epoch 46/200\n",
      "98/98 - 1s - loss: 1.0692 - accuracy: 0.6253 - val_loss: 1.3709 - val_accuracy: 0.5272\n",
      "Epoch 47/200\n",
      "98/98 - 1s - loss: 1.0606 - accuracy: 0.6284 - val_loss: 1.3852 - val_accuracy: 0.5249\n",
      "Epoch 48/200\n",
      "98/98 - 1s - loss: 1.0537 - accuracy: 0.6324 - val_loss: 1.3768 - val_accuracy: 0.5256\n",
      "Epoch 49/200\n",
      "98/98 - 1s - loss: 1.0437 - accuracy: 0.6347 - val_loss: 1.3731 - val_accuracy: 0.5247\n",
      "Epoch 50/200\n",
      "98/98 - 1s - loss: 1.0315 - accuracy: 0.6408 - val_loss: 1.4273 - val_accuracy: 0.5096\n",
      "Epoch 51/200\n",
      "98/98 - 1s - loss: 1.0169 - accuracy: 0.6457 - val_loss: 1.3852 - val_accuracy: 0.5271\n",
      "Epoch 52/200\n",
      "98/98 - 1s - loss: 1.0124 - accuracy: 0.6463 - val_loss: 1.4020 - val_accuracy: 0.5183\n",
      "Epoch 53/200\n",
      "98/98 - 1s - loss: 1.0098 - accuracy: 0.6476 - val_loss: 1.4164 - val_accuracy: 0.5198\n",
      "Epoch 54/200\n",
      "98/98 - 1s - loss: 1.0166 - accuracy: 0.6445 - val_loss: 1.3952 - val_accuracy: 0.5232\n",
      "Epoch 55/200\n",
      "98/98 - 1s - loss: 1.0010 - accuracy: 0.6498 - val_loss: 1.3952 - val_accuracy: 0.5235\n",
      "Epoch 56/200\n",
      "98/98 - 1s - loss: 0.9822 - accuracy: 0.6573 - val_loss: 1.4121 - val_accuracy: 0.5275\n",
      "Epoch 57/200\n",
      "98/98 - 1s - loss: 0.9737 - accuracy: 0.6596 - val_loss: 1.4509 - val_accuracy: 0.5165\n",
      "Epoch 58/200\n",
      "98/98 - 1s - loss: 0.9759 - accuracy: 0.6595 - val_loss: 1.4544 - val_accuracy: 0.5146\n",
      "Epoch 59/200\n",
      "98/98 - 1s - loss: 0.9706 - accuracy: 0.6627 - val_loss: 1.4185 - val_accuracy: 0.5276\n",
      "Epoch 60/200\n",
      "98/98 - 1s - loss: 0.9589 - accuracy: 0.6657 - val_loss: 1.4173 - val_accuracy: 0.5242\n",
      "Epoch 61/200\n",
      "98/98 - 1s - loss: 0.9456 - accuracy: 0.6691 - val_loss: 1.4090 - val_accuracy: 0.5293\n",
      "Epoch 62/200\n",
      "98/98 - 1s - loss: 0.9410 - accuracy: 0.6721 - val_loss: 1.4401 - val_accuracy: 0.5205\n",
      "Epoch 63/200\n",
      "98/98 - 1s - loss: 0.9267 - accuracy: 0.6786 - val_loss: 1.4212 - val_accuracy: 0.5268\n",
      "Epoch 64/200\n",
      "98/98 - 1s - loss: 0.9176 - accuracy: 0.6795 - val_loss: 1.4465 - val_accuracy: 0.5230\n",
      "Epoch 65/200\n",
      "98/98 - 1s - loss: 0.9206 - accuracy: 0.6784 - val_loss: 1.4627 - val_accuracy: 0.5183\n",
      "Epoch 66/200\n",
      "98/98 - 1s - loss: 0.9099 - accuracy: 0.6841 - val_loss: 1.4659 - val_accuracy: 0.5221\n",
      "Epoch 67/200\n",
      "98/98 - 1s - loss: 0.8949 - accuracy: 0.6890 - val_loss: 1.4654 - val_accuracy: 0.5211\n",
      "Epoch 68/200\n",
      "98/98 - 1s - loss: 0.8973 - accuracy: 0.6881 - val_loss: 1.4813 - val_accuracy: 0.5205\n",
      "Epoch 69/200\n",
      "98/98 - 1s - loss: 0.8997 - accuracy: 0.6869 - val_loss: 1.4813 - val_accuracy: 0.5151\n",
      "Epoch 70/200\n",
      "98/98 - 1s - loss: 0.8837 - accuracy: 0.6939 - val_loss: 1.4708 - val_accuracy: 0.5233\n",
      "Epoch 71/200\n",
      "98/98 - 1s - loss: 0.8682 - accuracy: 0.7005 - val_loss: 1.4593 - val_accuracy: 0.5270\n",
      "Epoch 72/200\n",
      "98/98 - 1s - loss: 0.8729 - accuracy: 0.6977 - val_loss: 1.4805 - val_accuracy: 0.5195\n",
      "Epoch 73/200\n",
      "98/98 - 1s - loss: 0.8589 - accuracy: 0.7016 - val_loss: 1.5189 - val_accuracy: 0.5111\n",
      "Epoch 74/200\n",
      "98/98 - 1s - loss: 0.8552 - accuracy: 0.7031 - val_loss: 1.4829 - val_accuracy: 0.5244\n",
      "Epoch 75/200\n",
      "98/98 - 1s - loss: 0.8364 - accuracy: 0.7091 - val_loss: 1.5051 - val_accuracy: 0.5176\n",
      "Epoch 76/200\n",
      "98/98 - 1s - loss: 0.8425 - accuracy: 0.7084 - val_loss: 1.4941 - val_accuracy: 0.5216\n"
     ]
    },
    {
     "name": "stdout",
     "output_type": "stream",
     "text": [
      "Epoch 77/200\n",
      "98/98 - 1s - loss: 0.8330 - accuracy: 0.7107 - val_loss: 1.5557 - val_accuracy: 0.5052\n",
      "Epoch 78/200\n",
      "98/98 - 1s - loss: 0.8257 - accuracy: 0.7128 - val_loss: 1.5030 - val_accuracy: 0.5269\n",
      "Epoch 79/200\n",
      "98/98 - 1s - loss: 0.8240 - accuracy: 0.7146 - val_loss: 1.5217 - val_accuracy: 0.5175\n",
      "Epoch 80/200\n",
      "98/98 - 1s - loss: 0.8079 - accuracy: 0.7203 - val_loss: 1.5575 - val_accuracy: 0.5146\n",
      "Epoch 81/200\n",
      "98/98 - 1s - loss: 0.8101 - accuracy: 0.7189 - val_loss: 1.5663 - val_accuracy: 0.5115\n",
      "Epoch 82/200\n",
      "98/98 - 1s - loss: 0.8010 - accuracy: 0.7237 - val_loss: 1.5583 - val_accuracy: 0.5148\n",
      "Epoch 83/200\n",
      "98/98 - 1s - loss: 0.7994 - accuracy: 0.7241 - val_loss: 1.5472 - val_accuracy: 0.5214\n",
      "Epoch 84/200\n",
      "98/98 - 1s - loss: 0.7967 - accuracy: 0.7218 - val_loss: 1.5728 - val_accuracy: 0.5104\n",
      "Epoch 85/200\n",
      "98/98 - 1s - loss: 0.7799 - accuracy: 0.7289 - val_loss: 1.5616 - val_accuracy: 0.5227\n",
      "Epoch 86/200\n",
      "98/98 - 1s - loss: 0.7749 - accuracy: 0.7322 - val_loss: 1.5644 - val_accuracy: 0.5163\n",
      "Epoch 87/200\n",
      "98/98 - 1s - loss: 0.7772 - accuracy: 0.7299 - val_loss: 1.5761 - val_accuracy: 0.5240\n",
      "Epoch 88/200\n",
      "98/98 - 1s - loss: 0.7657 - accuracy: 0.7340 - val_loss: 1.5550 - val_accuracy: 0.5238\n",
      "Epoch 89/200\n",
      "98/98 - 1s - loss: 0.7625 - accuracy: 0.7363 - val_loss: 1.5671 - val_accuracy: 0.5224\n",
      "Epoch 90/200\n",
      "98/98 - 1s - loss: 0.7589 - accuracy: 0.7361 - val_loss: 1.5728 - val_accuracy: 0.5178\n",
      "Epoch 91/200\n",
      "98/98 - 1s - loss: 0.7549 - accuracy: 0.7379 - val_loss: 1.5913 - val_accuracy: 0.5163\n",
      "Epoch 92/200\n",
      "98/98 - 1s - loss: 0.7637 - accuracy: 0.7328 - val_loss: 1.5825 - val_accuracy: 0.5248\n",
      "Epoch 93/200\n",
      "98/98 - 1s - loss: 0.7284 - accuracy: 0.7501 - val_loss: 1.6192 - val_accuracy: 0.5144\n",
      "Epoch 94/200\n",
      "98/98 - 1s - loss: 0.7365 - accuracy: 0.7445 - val_loss: 1.6429 - val_accuracy: 0.5140\n",
      "Epoch 95/200\n",
      "98/98 - 1s - loss: 0.7247 - accuracy: 0.7492 - val_loss: 1.6311 - val_accuracy: 0.5155\n",
      "Epoch 96/200\n",
      "98/98 - 1s - loss: 0.7302 - accuracy: 0.7471 - val_loss: 1.6239 - val_accuracy: 0.5181\n",
      "Epoch 97/200\n",
      "98/98 - 1s - loss: 0.7062 - accuracy: 0.7580 - val_loss: 1.6501 - val_accuracy: 0.5059\n",
      "Epoch 98/200\n",
      "98/98 - 1s - loss: 0.7062 - accuracy: 0.7557 - val_loss: 1.6840 - val_accuracy: 0.5097\n",
      "Epoch 99/200\n",
      "98/98 - 1s - loss: 0.7110 - accuracy: 0.7539 - val_loss: 1.6404 - val_accuracy: 0.5136\n",
      "Epoch 100/200\n",
      "98/98 - 1s - loss: 0.7022 - accuracy: 0.7569 - val_loss: 1.6756 - val_accuracy: 0.5163\n",
      "Epoch 101/200\n",
      "98/98 - 1s - loss: 0.6852 - accuracy: 0.7624 - val_loss: 1.6856 - val_accuracy: 0.5105\n",
      "Epoch 102/200\n",
      "98/98 - 1s - loss: 0.6831 - accuracy: 0.7640 - val_loss: 1.6776 - val_accuracy: 0.5145\n",
      "Epoch 103/200\n",
      "98/98 - 1s - loss: 0.6873 - accuracy: 0.7617 - val_loss: 1.6690 - val_accuracy: 0.5205\n",
      "Epoch 104/200\n",
      "98/98 - 1s - loss: 0.6818 - accuracy: 0.7640 - val_loss: 1.7052 - val_accuracy: 0.5135\n",
      "Epoch 105/200\n",
      "98/98 - 1s - loss: 0.6687 - accuracy: 0.7712 - val_loss: 1.7067 - val_accuracy: 0.5135\n",
      "Epoch 106/200\n",
      "98/98 - 1s - loss: 0.6676 - accuracy: 0.7683 - val_loss: 1.8208 - val_accuracy: 0.4927\n",
      "Epoch 107/200\n",
      "98/98 - 1s - loss: 0.6597 - accuracy: 0.7747 - val_loss: 1.7180 - val_accuracy: 0.5141\n",
      "Epoch 108/200\n",
      "98/98 - 1s - loss: 0.6540 - accuracy: 0.7740 - val_loss: 1.7281 - val_accuracy: 0.5162\n",
      "Epoch 109/200\n",
      "98/98 - 1s - loss: 0.6552 - accuracy: 0.7744 - val_loss: 1.8049 - val_accuracy: 0.4999\n",
      "Epoch 110/200\n",
      "98/98 - 1s - loss: 0.6525 - accuracy: 0.7720 - val_loss: 1.7283 - val_accuracy: 0.5169\n",
      "Epoch 111/200\n",
      "98/98 - 1s - loss: 0.6403 - accuracy: 0.7778 - val_loss: 1.7607 - val_accuracy: 0.5099\n",
      "Epoch 112/200\n",
      "98/98 - 1s - loss: 0.6312 - accuracy: 0.7834 - val_loss: 1.7080 - val_accuracy: 0.5215\n",
      "Epoch 113/200\n",
      "98/98 - 1s - loss: 0.6495 - accuracy: 0.7738 - val_loss: 1.7352 - val_accuracy: 0.5186\n",
      "Epoch 114/200\n",
      "98/98 - 1s - loss: 0.6250 - accuracy: 0.7858 - val_loss: 1.7986 - val_accuracy: 0.5127\n",
      "Epoch 115/200\n",
      "98/98 - 1s - loss: 0.6306 - accuracy: 0.7833 - val_loss: 1.7755 - val_accuracy: 0.5120\n",
      "Epoch 116/200\n",
      "98/98 - 1s - loss: 0.6235 - accuracy: 0.7859 - val_loss: 1.8112 - val_accuracy: 0.5126\n",
      "Epoch 117/200\n",
      "98/98 - 1s - loss: 0.6172 - accuracy: 0.7866 - val_loss: 1.7683 - val_accuracy: 0.5146\n",
      "Epoch 118/200\n",
      "98/98 - 1s - loss: 0.6103 - accuracy: 0.7914 - val_loss: 1.7943 - val_accuracy: 0.5158\n",
      "Epoch 119/200\n",
      "98/98 - 1s - loss: 0.6096 - accuracy: 0.7904 - val_loss: 1.7796 - val_accuracy: 0.5183\n",
      "Epoch 120/200\n",
      "98/98 - 1s - loss: 0.5993 - accuracy: 0.7945 - val_loss: 1.8099 - val_accuracy: 0.5135\n",
      "Epoch 121/200\n",
      "98/98 - 1s - loss: 0.6050 - accuracy: 0.7905 - val_loss: 1.8423 - val_accuracy: 0.5137\n",
      "Epoch 122/200\n",
      "98/98 - 1s - loss: 0.5855 - accuracy: 0.7997 - val_loss: 1.8330 - val_accuracy: 0.5119\n",
      "Epoch 123/200\n",
      "98/98 - 1s - loss: 0.5796 - accuracy: 0.8027 - val_loss: 1.8071 - val_accuracy: 0.5225\n",
      "Epoch 124/200\n",
      "98/98 - 1s - loss: 0.5758 - accuracy: 0.8015 - val_loss: 1.8677 - val_accuracy: 0.5018\n",
      "Epoch 125/200\n",
      "98/98 - 1s - loss: 0.5753 - accuracy: 0.8013 - val_loss: 1.8983 - val_accuracy: 0.4993\n",
      "Epoch 126/200\n",
      "98/98 - 1s - loss: 0.5732 - accuracy: 0.8020 - val_loss: 1.8401 - val_accuracy: 0.5134\n",
      "Epoch 127/200\n",
      "98/98 - 1s - loss: 0.5755 - accuracy: 0.8023 - val_loss: 1.8965 - val_accuracy: 0.5139\n",
      "Epoch 128/200\n",
      "98/98 - 1s - loss: 0.5704 - accuracy: 0.8030 - val_loss: 1.9767 - val_accuracy: 0.4876\n",
      "Epoch 129/200\n",
      "98/98 - 1s - loss: 0.5624 - accuracy: 0.8082 - val_loss: 1.8894 - val_accuracy: 0.5070\n",
      "Epoch 130/200\n",
      "98/98 - 1s - loss: 0.5582 - accuracy: 0.8099 - val_loss: 1.9269 - val_accuracy: 0.5100\n",
      "Epoch 131/200\n",
      "98/98 - 1s - loss: 0.5671 - accuracy: 0.8048 - val_loss: 1.9468 - val_accuracy: 0.5030\n",
      "Epoch 132/200\n",
      "98/98 - 1s - loss: 0.5425 - accuracy: 0.8133 - val_loss: 1.9942 - val_accuracy: 0.4970\n",
      "Epoch 133/200\n",
      "98/98 - 1s - loss: 0.5604 - accuracy: 0.8060 - val_loss: 1.9748 - val_accuracy: 0.5070\n",
      "Epoch 134/200\n",
      "98/98 - 1s - loss: 0.5385 - accuracy: 0.8151 - val_loss: 1.9969 - val_accuracy: 0.4954\n",
      "Epoch 135/200\n",
      "98/98 - 1s - loss: 0.5501 - accuracy: 0.8119 - val_loss: 1.9494 - val_accuracy: 0.5062\n",
      "Epoch 136/200\n",
      "98/98 - 1s - loss: 0.5246 - accuracy: 0.8226 - val_loss: 1.9469 - val_accuracy: 0.5087\n",
      "Epoch 137/200\n",
      "98/98 - 1s - loss: 0.5239 - accuracy: 0.8222 - val_loss: 1.9480 - val_accuracy: 0.5098\n",
      "Epoch 138/200\n",
      "98/98 - 1s - loss: 0.5254 - accuracy: 0.8220 - val_loss: 1.9564 - val_accuracy: 0.5123\n",
      "Epoch 139/200\n",
      "98/98 - 1s - loss: 0.5082 - accuracy: 0.8274 - val_loss: 2.0355 - val_accuracy: 0.5037\n",
      "Epoch 140/200\n",
      "98/98 - 1s - loss: 0.5251 - accuracy: 0.8211 - val_loss: 1.9782 - val_accuracy: 0.5086\n",
      "Epoch 141/200\n",
      "98/98 - 1s - loss: 0.5097 - accuracy: 0.8244 - val_loss: 1.9969 - val_accuracy: 0.5090\n",
      "Epoch 142/200\n",
      "98/98 - 1s - loss: 0.5061 - accuracy: 0.8263 - val_loss: 1.9723 - val_accuracy: 0.5096\n",
      "Epoch 143/200\n",
      "98/98 - 1s - loss: 0.5190 - accuracy: 0.8220 - val_loss: 1.9787 - val_accuracy: 0.5085\n",
      "Epoch 144/200\n",
      "98/98 - 1s - loss: 0.5059 - accuracy: 0.8282 - val_loss: 2.0394 - val_accuracy: 0.5066\n",
      "Epoch 145/200\n",
      "98/98 - 1s - loss: 0.4856 - accuracy: 0.8353 - val_loss: 2.0178 - val_accuracy: 0.5096\n",
      "Epoch 146/200\n",
      "98/98 - 1s - loss: 0.4950 - accuracy: 0.8312 - val_loss: 2.0400 - val_accuracy: 0.5126\n",
      "Epoch 147/200\n",
      "98/98 - 1s - loss: 0.4897 - accuracy: 0.8322 - val_loss: 2.0620 - val_accuracy: 0.5054\n",
      "Epoch 148/200\n",
      "98/98 - 1s - loss: 0.4835 - accuracy: 0.8365 - val_loss: 2.0188 - val_accuracy: 0.5128\n",
      "Epoch 149/200\n",
      "98/98 - 1s - loss: 0.4824 - accuracy: 0.8364 - val_loss: 2.1193 - val_accuracy: 0.4985\n",
      "Epoch 150/200\n",
      "98/98 - 1s - loss: 0.5020 - accuracy: 0.8263 - val_loss: 2.0567 - val_accuracy: 0.5089\n",
      "Epoch 151/200\n",
      "98/98 - 1s - loss: 0.4965 - accuracy: 0.8308 - val_loss: 2.1052 - val_accuracy: 0.5064\n",
      "Epoch 152/200\n",
      "98/98 - 1s - loss: 0.4664 - accuracy: 0.8428 - val_loss: 2.0931 - val_accuracy: 0.5108\n",
      "Epoch 153/200\n",
      "98/98 - 1s - loss: 0.4517 - accuracy: 0.8478 - val_loss: 2.1263 - val_accuracy: 0.5019\n",
      "Epoch 154/200\n",
      "98/98 - 1s - loss: 0.4768 - accuracy: 0.8364 - val_loss: 2.1056 - val_accuracy: 0.5083\n",
      "Epoch 155/200\n",
      "98/98 - 1s - loss: 0.4557 - accuracy: 0.8461 - val_loss: 2.0947 - val_accuracy: 0.5066\n",
      "Epoch 156/200\n",
      "98/98 - 1s - loss: 0.4653 - accuracy: 0.8419 - val_loss: 2.1407 - val_accuracy: 0.5029\n",
      "Epoch 157/200\n",
      "98/98 - 1s - loss: 0.4607 - accuracy: 0.8431 - val_loss: 2.2313 - val_accuracy: 0.4920\n",
      "Epoch 158/200\n",
      "98/98 - 1s - loss: 0.4614 - accuracy: 0.8445 - val_loss: 2.1206 - val_accuracy: 0.5109\n"
     ]
    },
    {
     "name": "stdout",
     "output_type": "stream",
     "text": [
      "Epoch 159/200\n",
      "98/98 - 1s - loss: 0.4402 - accuracy: 0.8527 - val_loss: 2.2105 - val_accuracy: 0.5047\n",
      "Epoch 160/200\n",
      "98/98 - 1s - loss: 0.4547 - accuracy: 0.8448 - val_loss: 2.1761 - val_accuracy: 0.5070\n",
      "Epoch 161/200\n",
      "98/98 - 1s - loss: 0.4522 - accuracy: 0.8456 - val_loss: 2.1796 - val_accuracy: 0.5065\n",
      "Epoch 162/200\n",
      "98/98 - 1s - loss: 0.4379 - accuracy: 0.8519 - val_loss: 2.2057 - val_accuracy: 0.5058\n",
      "Epoch 163/200\n",
      "98/98 - 1s - loss: 0.4269 - accuracy: 0.8575 - val_loss: 2.1911 - val_accuracy: 0.5079\n",
      "Epoch 164/200\n",
      "98/98 - 1s - loss: 0.4355 - accuracy: 0.8511 - val_loss: 2.1916 - val_accuracy: 0.5066\n",
      "Epoch 165/200\n",
      "98/98 - 1s - loss: 0.4430 - accuracy: 0.8481 - val_loss: 2.2373 - val_accuracy: 0.5036\n",
      "Epoch 166/200\n",
      "98/98 - 1s - loss: 0.4117 - accuracy: 0.8619 - val_loss: 2.2402 - val_accuracy: 0.5062\n",
      "Epoch 167/200\n",
      "98/98 - 1s - loss: 0.4272 - accuracy: 0.8558 - val_loss: 2.2278 - val_accuracy: 0.5053\n",
      "Epoch 168/200\n",
      "98/98 - 1s - loss: 0.4146 - accuracy: 0.8616 - val_loss: 2.2578 - val_accuracy: 0.5049\n",
      "Epoch 169/200\n",
      "98/98 - 1s - loss: 0.4198 - accuracy: 0.8579 - val_loss: 2.2581 - val_accuracy: 0.5062\n",
      "Epoch 170/200\n",
      "98/98 - 1s - loss: 0.4220 - accuracy: 0.8556 - val_loss: 2.2328 - val_accuracy: 0.5077\n",
      "Epoch 171/200\n",
      "98/98 - 1s - loss: 0.4096 - accuracy: 0.8617 - val_loss: 2.2460 - val_accuracy: 0.5069\n",
      "Epoch 172/200\n",
      "98/98 - 1s - loss: 0.4169 - accuracy: 0.8578 - val_loss: 2.3224 - val_accuracy: 0.4962\n",
      "Epoch 173/200\n",
      "98/98 - 1s - loss: 0.4034 - accuracy: 0.8631 - val_loss: 2.2686 - val_accuracy: 0.5126\n",
      "Epoch 174/200\n",
      "98/98 - 1s - loss: 0.4153 - accuracy: 0.8588 - val_loss: 2.3360 - val_accuracy: 0.4964\n",
      "Epoch 175/200\n",
      "98/98 - 1s - loss: 0.4002 - accuracy: 0.8658 - val_loss: 2.4301 - val_accuracy: 0.4828\n",
      "Epoch 176/200\n",
      "98/98 - 1s - loss: 0.4186 - accuracy: 0.8563 - val_loss: 2.3550 - val_accuracy: 0.4939\n",
      "Epoch 177/200\n",
      "98/98 - 1s - loss: 0.3855 - accuracy: 0.8708 - val_loss: 2.3710 - val_accuracy: 0.5084\n",
      "Epoch 178/200\n",
      "98/98 - 1s - loss: 0.3998 - accuracy: 0.8643 - val_loss: 2.3567 - val_accuracy: 0.5074\n",
      "Epoch 179/200\n",
      "98/98 - 1s - loss: 0.3935 - accuracy: 0.8663 - val_loss: 2.3467 - val_accuracy: 0.5029\n",
      "Epoch 180/200\n",
      "98/98 - 1s - loss: 0.3743 - accuracy: 0.8755 - val_loss: 2.3533 - val_accuracy: 0.5101\n",
      "Epoch 181/200\n",
      "98/98 - 1s - loss: 0.3716 - accuracy: 0.8765 - val_loss: 2.3689 - val_accuracy: 0.5076\n",
      "Epoch 182/200\n",
      "98/98 - 1s - loss: 0.3725 - accuracy: 0.8749 - val_loss: 2.4109 - val_accuracy: 0.5024\n",
      "Epoch 183/200\n",
      "98/98 - 1s - loss: 0.3876 - accuracy: 0.8691 - val_loss: 2.4578 - val_accuracy: 0.4941\n",
      "Epoch 184/200\n",
      "98/98 - 1s - loss: 0.3811 - accuracy: 0.8705 - val_loss: 2.4411 - val_accuracy: 0.4963\n",
      "Epoch 185/200\n",
      "98/98 - 1s - loss: 0.3889 - accuracy: 0.8676 - val_loss: 2.4136 - val_accuracy: 0.5000\n",
      "Epoch 186/200\n",
      "98/98 - 1s - loss: 0.3696 - accuracy: 0.8761 - val_loss: 2.4485 - val_accuracy: 0.4976\n",
      "Epoch 187/200\n",
      "98/98 - 1s - loss: 0.3771 - accuracy: 0.8721 - val_loss: 2.4288 - val_accuracy: 0.5028\n",
      "Epoch 188/200\n",
      "98/98 - 1s - loss: 0.3500 - accuracy: 0.8838 - val_loss: 2.4365 - val_accuracy: 0.5046\n",
      "Epoch 189/200\n",
      "98/98 - 1s - loss: 0.3609 - accuracy: 0.8797 - val_loss: 2.5263 - val_accuracy: 0.4915\n",
      "Epoch 190/200\n",
      "98/98 - 1s - loss: 0.3627 - accuracy: 0.8789 - val_loss: 2.4421 - val_accuracy: 0.5059\n",
      "Epoch 191/200\n",
      "98/98 - 1s - loss: 0.3620 - accuracy: 0.8784 - val_loss: 2.4925 - val_accuracy: 0.5050\n",
      "Epoch 192/200\n",
      "98/98 - 1s - loss: 0.3572 - accuracy: 0.8798 - val_loss: 2.5052 - val_accuracy: 0.4998\n",
      "Epoch 193/200\n",
      "98/98 - 1s - loss: 0.3484 - accuracy: 0.8852 - val_loss: 2.5080 - val_accuracy: 0.5014\n",
      "Epoch 194/200\n",
      "98/98 - 1s - loss: 0.3320 - accuracy: 0.8902 - val_loss: 2.5070 - val_accuracy: 0.5036\n",
      "Epoch 195/200\n",
      "98/98 - 1s - loss: 0.3422 - accuracy: 0.8859 - val_loss: 2.5070 - val_accuracy: 0.5016\n",
      "Epoch 196/200\n",
      "98/98 - 1s - loss: 0.3452 - accuracy: 0.8850 - val_loss: 2.5066 - val_accuracy: 0.5091\n",
      "Epoch 197/200\n",
      "98/98 - 1s - loss: 0.3372 - accuracy: 0.8868 - val_loss: 2.5299 - val_accuracy: 0.5024\n",
      "Epoch 198/200\n",
      "98/98 - 1s - loss: 0.3346 - accuracy: 0.8895 - val_loss: 2.5066 - val_accuracy: 0.5037\n",
      "Epoch 199/200\n",
      "98/98 - 1s - loss: 0.3529 - accuracy: 0.8796 - val_loss: 2.5177 - val_accuracy: 0.5090\n",
      "Epoch 200/200\n",
      "98/98 - 1s - loss: 0.3283 - accuracy: 0.8911 - val_loss: 2.5657 - val_accuracy: 0.4999\n"
     ]
    }
   ],
   "source": [
    "# implementing a simple neural network\n",
    "\n",
    "model = Sequential()\n",
    "model.add(layers.Dense(10000, input_shape = (32*32*3,), activation = 'relu'))\n",
    "model.add(layers.Dense(10, activation = 'softmax'))\n",
    "model.compile(optimizer = 'adam', loss = 'categorical_crossentropy', metrics = ['accuracy'])\n",
    "model.summary()\n",
    "\n",
    "model_history = model.fit(x_train_norm, train_labels, epochs = 200, validation_data = (x_test_norm,test_labels), batch_size = 512, verbose = 2)"
   ]
  },
  {
   "cell_type": "code",
   "execution_count": 6,
   "id": "5341e8d9",
   "metadata": {},
   "outputs": [],
   "source": [
    "# building the plotter for model loss and accuracy calculations\n",
    "\n",
    "def plot_model(model_history):\n",
    "    losses = pd.DataFrame(model_history.history)\n",
    "    losses[['loss','val_loss']].plot()\n",
    "    plt.title('Model Loss')\n",
    "    plt.xlabel('Epoch')\n",
    "    plt.ylabel('Loss')\n",
    "    \n",
    "    losses[['accuracy','val_accuracy']].plot()\n",
    "    plt.title('Model Accuracy')\n",
    "    plt.xlabel('Epoch')\n",
    "    plt.ylabel('Accuracy')"
   ]
  },
  {
   "cell_type": "code",
   "execution_count": 7,
   "id": "ded6925f",
   "metadata": {},
   "outputs": [
    {
     "data": {
      "image/png": "[encoded data removed]",
      "text/plain": [
       "<Figure size 432x288 with 1 Axes>"
      ]
     },
     "metadata": {
      "needs_background": "light"
     },
     "output_type": "display_data"
    },
    {
     "data": {
      "image/png": "[encoded data removed]",
      "text/plain": [
       "<Figure size 432x288 with 1 Axes>"
      ]
     },
     "metadata": {
      "needs_background": "light"
     },
     "output_type": "display_data"
    }
   ],
   "source": [
    "plot_model(model_history)"
   ]
  },
  {
   "cell_type": "markdown",
   "id": "b46c4cfa",
   "metadata": {},
   "source": [
    "Observations:\n",
    "- Overall validation accuracy is stuck at around 50% (which is as good as a random model)\n",
    "- Also it is clear that addtional epochs are not helping to improve learning - infact validation accuracy is marginally reducing\n",
    "- It is clear that post the 50th epoch the model is picking up noise as we see training accuracy increasing by not on the test set\n",
    "- Model optimization can include early stopping to prevent wastage of computing power."
   ]
  },
  {
   "cell_type": "markdown",
   "id": "c4733219",
   "metadata": {},
   "source": [
    "<a id=section502></a>\n",
    "### 5.2 Using CNN"
   ]
  },
  {
   "cell_type": "code",
   "execution_count": 11,
   "id": "c0efc370",
   "metadata": {},
   "outputs": [
    {
     "name": "stdout",
     "output_type": "stream",
     "text": [
      "Model: \"sequential_3\"\n",
      "_________________________________________________________________\n",
      "Layer (type)                 Output Shape              Param #   \n",
      "=================================================================\n",
      "conv2d_4 (Conv2D)            (None, 29, 29, 32)        1568      \n",
      "_________________________________________________________________\n",
      "max_pooling2d_4 (MaxPooling2 (None, 14, 14, 32)        0         \n",
      "_________________________________________________________________\n",
      "conv2d_5 (Conv2D)            (None, 11, 11, 32)        16416     \n",
      "_________________________________________________________________\n",
      "max_pooling2d_5 (MaxPooling2 (None, 5, 5, 32)          0         \n",
      "_________________________________________________________________\n",
      "flatten_2 (Flatten)          (None, 800)               0         \n",
      "_________________________________________________________________\n",
      "dense_10 (Dense)             (None, 128)               102528    \n",
      "_________________________________________________________________\n",
      "dropout_6 (Dropout)          (None, 128)               0         \n",
      "_________________________________________________________________\n",
      "dense_11 (Dense)             (None, 64)                8256      \n",
      "_________________________________________________________________\n",
      "dropout_7 (Dropout)          (None, 64)                0         \n",
      "_________________________________________________________________\n",
      "dense_12 (Dense)             (None, 32)                2080      \n",
      "_________________________________________________________________\n",
      "dropout_8 (Dropout)          (None, 32)                0         \n",
      "_________________________________________________________________\n",
      "dense_13 (Dense)             (None, 10)                330       \n",
      "=================================================================\n",
      "Total params: 131,178\n",
      "Trainable params: 131,178\n",
      "Non-trainable params: 0\n",
      "_________________________________________________________________\n",
      "Epoch 1/200\n",
      "1563/1563 [==============================] - 5s 3ms/step - loss: 1.7422 - accuracy: 0.3516 - val_loss: 1.4133 - val_accuracy: 0.4884\n",
      "Epoch 2/200\n",
      "1563/1563 [==============================] - 5s 3ms/step - loss: 1.4032 - accuracy: 0.5004 - val_loss: 1.2601 - val_accuracy: 0.5484\n",
      "Epoch 3/200\n",
      "1563/1563 [==============================] - 5s 3ms/step - loss: 1.2690 - accuracy: 0.5573 - val_loss: 1.1579 - val_accuracy: 0.6018\n",
      "Epoch 4/200\n",
      "1563/1563 [==============================] - 5s 3ms/step - loss: 1.1735 - accuracy: 0.5976 - val_loss: 1.1345 - val_accuracy: 0.6088\n",
      "Epoch 5/200\n",
      "1563/1563 [==============================] - 5s 3ms/step - loss: 1.1058 - accuracy: 0.6204 - val_loss: 1.1219 - val_accuracy: 0.6130\n",
      "Epoch 6/200\n",
      "1563/1563 [==============================] - 5s 3ms/step - loss: 1.0556 - accuracy: 0.6421 - val_loss: 1.0974 - val_accuracy: 0.6288\n",
      "Epoch 7/200\n",
      "1563/1563 [==============================] - 5s 3ms/step - loss: 1.0035 - accuracy: 0.6569 - val_loss: 1.0375 - val_accuracy: 0.6460\n",
      "Epoch 8/200\n",
      "1563/1563 [==============================] - 5s 3ms/step - loss: 0.9711 - accuracy: 0.6694 - val_loss: 0.9696 - val_accuracy: 0.6695\n",
      "Epoch 9/200\n",
      "1563/1563 [==============================] - 5s 3ms/step - loss: 0.9343 - accuracy: 0.6832 - val_loss: 0.9580 - val_accuracy: 0.6802\n",
      "Epoch 10/200\n",
      "1563/1563 [==============================] - 5s 3ms/step - loss: 0.9014 - accuracy: 0.6966 - val_loss: 1.0121 - val_accuracy: 0.6582\n",
      "Epoch 11/200\n",
      "1563/1563 [==============================] - 5s 3ms/step - loss: 0.8714 - accuracy: 0.7037 - val_loss: 1.0532 - val_accuracy: 0.6500\n",
      "Epoch 12/200\n",
      "1563/1563 [==============================] - 5s 3ms/step - loss: 0.8498 - accuracy: 0.7121 - val_loss: 1.0002 - val_accuracy: 0.6652\n",
      "Epoch 13/200\n",
      "1563/1563 [==============================] - 5s 3ms/step - loss: 0.8230 - accuracy: 0.7217 - val_loss: 0.9741 - val_accuracy: 0.6727\n",
      "Epoch 14/200\n",
      "1563/1563 [==============================] - 5s 3ms/step - loss: 0.8042 - accuracy: 0.7277 - val_loss: 0.9506 - val_accuracy: 0.6801\n",
      "Epoch 15/200\n",
      "1563/1563 [==============================] - 5s 3ms/step - loss: 0.7771 - accuracy: 0.7367 - val_loss: 0.9608 - val_accuracy: 0.6823\n",
      "Epoch 16/200\n",
      "1563/1563 [==============================] - 5s 3ms/step - loss: 0.7677 - accuracy: 0.7401 - val_loss: 0.9459 - val_accuracy: 0.6884\n",
      "Epoch 17/200\n",
      "1563/1563 [==============================] - 5s 3ms/step - loss: 0.7438 - accuracy: 0.7480 - val_loss: 0.9465 - val_accuracy: 0.6905\n",
      "Epoch 18/200\n",
      "1563/1563 [==============================] - 5s 3ms/step - loss: 0.7241 - accuracy: 0.7535 - val_loss: 0.9480 - val_accuracy: 0.6928\n",
      "Epoch 19/200\n",
      "1563/1563 [==============================] - 5s 3ms/step - loss: 0.7191 - accuracy: 0.7566 - val_loss: 0.9640 - val_accuracy: 0.6844\n",
      "Epoch 20/200\n",
      "1563/1563 [==============================] - 5s 3ms/step - loss: 0.7046 - accuracy: 0.7611 - val_loss: 0.9686 - val_accuracy: 0.6900\n",
      "Epoch 21/200\n",
      "1563/1563 [==============================] - 5s 3ms/step - loss: 0.6822 - accuracy: 0.7692 - val_loss: 0.9923 - val_accuracy: 0.6875\n",
      "Epoch 22/200\n",
      "1563/1563 [==============================] - 5s 3ms/step - loss: 0.6716 - accuracy: 0.7711 - val_loss: 0.9663 - val_accuracy: 0.6859\n",
      "Epoch 23/200\n",
      "1563/1563 [==============================] - 5s 3ms/step - loss: 0.6627 - accuracy: 0.7777 - val_loss: 0.9916 - val_accuracy: 0.6851\n",
      "Epoch 24/200\n",
      "1563/1563 [==============================] - 5s 3ms/step - loss: 0.6493 - accuracy: 0.7794 - val_loss: 0.9919 - val_accuracy: 0.6917\n",
      "Epoch 25/200\n",
      "1563/1563 [==============================] - 5s 3ms/step - loss: 0.6426 - accuracy: 0.7829 - val_loss: 1.0631 - val_accuracy: 0.6806\n",
      "Epoch 26/200\n",
      "1563/1563 [==============================] - 5s 3ms/step - loss: 0.6299 - accuracy: 0.7864 - val_loss: 1.0509 - val_accuracy: 0.6831\n",
      "Epoch 27/200\n",
      "1563/1563 [==============================] - 5s 3ms/step - loss: 0.6142 - accuracy: 0.7905 - val_loss: 1.0507 - val_accuracy: 0.6788\n",
      "Epoch 28/200\n",
      "1563/1563 [==============================] - 5s 3ms/step - loss: 0.6121 - accuracy: 0.7916 - val_loss: 1.0150 - val_accuracy: 0.6890\n",
      "Epoch 29/200\n",
      "1563/1563 [==============================] - 4s 3ms/step - loss: 0.5990 - accuracy: 0.7953 - val_loss: 1.0298 - val_accuracy: 0.6808\n",
      "Epoch 30/200\n",
      "1563/1563 [==============================] - 5s 3ms/step - loss: 0.5930 - accuracy: 0.7987 - val_loss: 1.0717 - val_accuracy: 0.6859\n",
      "Epoch 31/200\n",
      "1563/1563 [==============================] - 4s 3ms/step - loss: 0.5795 - accuracy: 0.8017 - val_loss: 1.0613 - val_accuracy: 0.6870\n",
      "Epoch 32/200\n",
      "1563/1563 [==============================] - 5s 3ms/step - loss: 0.5771 - accuracy: 0.8041 - val_loss: 1.0694 - val_accuracy: 0.6819\n",
      "Epoch 33/200\n",
      "1563/1563 [==============================] - 4s 3ms/step - loss: 0.5711 - accuracy: 0.8063 - val_loss: 1.0621 - val_accuracy: 0.6824\n",
      "Epoch 34/200\n",
      "1563/1563 [==============================] - 5s 3ms/step - loss: 0.5592 - accuracy: 0.8084 - val_loss: 1.0477 - val_accuracy: 0.6888\n",
      "Epoch 35/200\n",
      "1563/1563 [==============================] - 4s 3ms/step - loss: 0.5520 - accuracy: 0.8136 - val_loss: 1.0590 - val_accuracy: 0.6944\n",
      "Epoch 36/200\n",
      "1563/1563 [==============================] - 4s 3ms/step - loss: 0.5425 - accuracy: 0.8158 - val_loss: 1.1046 - val_accuracy: 0.6918\n",
      "Epoch 37/200\n",
      "1563/1563 [==============================] - 4s 3ms/step - loss: 0.5386 - accuracy: 0.8178 - val_loss: 1.0999 - val_accuracy: 0.6835\n",
      "Epoch 38/200\n",
      "1563/1563 [==============================] - 4s 3ms/step - loss: 0.5273 - accuracy: 0.8224 - val_loss: 1.1283 - val_accuracy: 0.6880\n",
      "Epoch 39/200\n",
      "1563/1563 [==============================] - 4s 3ms/step - loss: 0.5236 - accuracy: 0.8229 - val_loss: 1.0629 - val_accuracy: 0.6827\n",
      "Epoch 40/200\n",
      "1563/1563 [==============================] - 4s 3ms/step - loss: 0.5115 - accuracy: 0.8247 - val_loss: 1.1206 - val_accuracy: 0.6693\n",
      "Epoch 41/200\n",
      "1563/1563 [==============================] - 4s 3ms/step - loss: 0.5104 - accuracy: 0.8266 - val_loss: 1.1514 - val_accuracy: 0.6803\n",
      "Epoch 42/200\n",
      "1563/1563 [==============================] - 4s 3ms/step - loss: 0.5041 - accuracy: 0.8297 - val_loss: 1.1482 - val_accuracy: 0.6769\n",
      "Epoch 43/200\n",
      "1563/1563 [==============================] - 4s 3ms/step - loss: 0.4994 - accuracy: 0.8304 - val_loss: 1.1419 - val_accuracy: 0.6865\n"
     ]
    },
    {
     "name": "stdout",
     "output_type": "stream",
     "text": [
      "Epoch 44/200\n",
      "1563/1563 [==============================] - 4s 3ms/step - loss: 0.4990 - accuracy: 0.8311 - val_loss: 1.1216 - val_accuracy: 0.6836\n",
      "Epoch 45/200\n",
      "1563/1563 [==============================] - 4s 3ms/step - loss: 0.4869 - accuracy: 0.8354 - val_loss: 1.1580 - val_accuracy: 0.6848\n",
      "Epoch 46/200\n",
      "1563/1563 [==============================] - 4s 3ms/step - loss: 0.4829 - accuracy: 0.8369 - val_loss: 1.1338 - val_accuracy: 0.6885\n",
      "Epoch 47/200\n",
      "1563/1563 [==============================] - 5s 3ms/step - loss: 0.4808 - accuracy: 0.8387 - val_loss: 1.1870 - val_accuracy: 0.6766\n",
      "Epoch 48/200\n",
      "1563/1563 [==============================] - 5s 3ms/step - loss: 0.4783 - accuracy: 0.8394 - val_loss: 1.1481 - val_accuracy: 0.6846\n",
      "Epoch 49/200\n",
      "1563/1563 [==============================] - 4s 3ms/step - loss: 0.4703 - accuracy: 0.8407 - val_loss: 1.1770 - val_accuracy: 0.6875\n",
      "Epoch 50/200\n",
      "1563/1563 [==============================] - 4s 3ms/step - loss: 0.4702 - accuracy: 0.8420 - val_loss: 1.2118 - val_accuracy: 0.6844\n",
      "Epoch 51/200\n",
      "1563/1563 [==============================] - 4s 3ms/step - loss: 0.4636 - accuracy: 0.8445 - val_loss: 1.1659 - val_accuracy: 0.6884\n",
      "Epoch 52/200\n",
      "1563/1563 [==============================] - 4s 3ms/step - loss: 0.4572 - accuracy: 0.8461 - val_loss: 1.1648 - val_accuracy: 0.6801\n",
      "Epoch 53/200\n",
      "1563/1563 [==============================] - 4s 3ms/step - loss: 0.4557 - accuracy: 0.8479 - val_loss: 1.1605 - val_accuracy: 0.6835\n",
      "Epoch 54/200\n",
      "1563/1563 [==============================] - 4s 3ms/step - loss: 0.4500 - accuracy: 0.8491 - val_loss: 1.1663 - val_accuracy: 0.6916\n",
      "Epoch 55/200\n",
      "1563/1563 [==============================] - 4s 3ms/step - loss: 0.4392 - accuracy: 0.8527 - val_loss: 1.2467 - val_accuracy: 0.6857\n",
      "Epoch 56/200\n",
      "1563/1563 [==============================] - 4s 3ms/step - loss: 0.4435 - accuracy: 0.8518 - val_loss: 1.2038 - val_accuracy: 0.6702\n",
      "Epoch 57/200\n",
      "1563/1563 [==============================] - 4s 3ms/step - loss: 0.4378 - accuracy: 0.8554 - val_loss: 1.1840 - val_accuracy: 0.6871\n",
      "Epoch 58/200\n",
      "1563/1563 [==============================] - 4s 3ms/step - loss: 0.4378 - accuracy: 0.8524 - val_loss: 1.2391 - val_accuracy: 0.6837\n",
      "Epoch 59/200\n",
      "1563/1563 [==============================] - 4s 3ms/step - loss: 0.4334 - accuracy: 0.8545 - val_loss: 1.2360 - val_accuracy: 0.6842\n",
      "Epoch 60/200\n",
      "1563/1563 [==============================] - 4s 3ms/step - loss: 0.4285 - accuracy: 0.8558 - val_loss: 1.2442 - val_accuracy: 0.6815\n",
      "Epoch 61/200\n",
      "1563/1563 [==============================] - 5s 3ms/step - loss: 0.4226 - accuracy: 0.8577 - val_loss: 1.3371 - val_accuracy: 0.6790\n",
      "Epoch 62/200\n",
      "1563/1563 [==============================] - 5s 3ms/step - loss: 0.4270 - accuracy: 0.8571 - val_loss: 1.2635 - val_accuracy: 0.6857\n",
      "Epoch 63/200\n",
      "1563/1563 [==============================] - 5s 3ms/step - loss: 0.4198 - accuracy: 0.8587 - val_loss: 1.2484 - val_accuracy: 0.6832\n",
      "Epoch 64/200\n",
      "1563/1563 [==============================] - 5s 3ms/step - loss: 0.4163 - accuracy: 0.8605 - val_loss: 1.2308 - val_accuracy: 0.6847\n",
      "Epoch 65/200\n",
      "1563/1563 [==============================] - 5s 3ms/step - loss: 0.4080 - accuracy: 0.8638 - val_loss: 1.2998 - val_accuracy: 0.6858\n",
      "Epoch 66/200\n",
      "1563/1563 [==============================] - 5s 3ms/step - loss: 0.4156 - accuracy: 0.8630 - val_loss: 1.2963 - val_accuracy: 0.6776\n"
     ]
    }
   ],
   "source": [
    "# however on secondary research it has been seen that Convolutional Neural networks improve on both accuracy and loss\n",
    "# building model with convolutional neural network\n",
    "\n",
    "model = Sequential()\n",
    "\n",
    "model.add(Conv2D(filters = 32, kernel_size = (4,4), input_shape = (32,32,3), activation = 'relu',))\n",
    "model.add(MaxPool2D(pool_size = (2,2)))\n",
    "\n",
    "model.add(layers.Conv2D(filters = 32, kernel_size = (4,4), activation = 'relu',))\n",
    "model.add(MaxPool2D(pool_size = (2,2)))\n",
    "\n",
    "model.add(Flatten())\n",
    "model.add(Dense(128, activation = 'relu'))\n",
    "model.add(Dropout(0.2))\n",
    "model.add(Dense(64, activation = 'relu'))\n",
    "model.add(Dropout(0.2))\n",
    "model.add(Dense(32, activation = 'relu'))\n",
    "model.add(Dropout(0.2))\n",
    "model.add(Dense(10, activation = 'softmax'))\n",
    "\n",
    "model.compile(optimizer=  'adam', loss ='categorical_crossentropy', metrics = ['accuracy'])\n",
    "\n",
    "model.summary()\n",
    "\n",
    "es = EarlyStopping(monitor = 'val_loss', patience = 50)\n",
    "\n",
    "model_history = model.fit(x_train_cnn, train_labels, epochs = 200, validation_data = (x_test_cnn, test_labels), callbacks = [es])"
   ]
  },
  {
   "cell_type": "code",
   "execution_count": 12,
   "id": "e610a31e",
   "metadata": {},
   "outputs": [
    {
     "data": {
      "image/png": "[encoded data removed]",
      "text/plain": [
       "<Figure size 432x288 with 1 Axes>"
      ]
     },
     "metadata": {
      "needs_background": "light"
     },
     "output_type": "display_data"
    },
    {
     "data": {
      "image/png": "[encoded data removed]",
      "text/plain": [
       "<Figure size 432x288 with 1 Axes>"
      ]
     },
     "metadata": {
      "needs_background": "light"
     },
     "output_type": "display_data"
    }
   ],
   "source": [
    "plot_model(model_history)\n",
    "\n",
    "# 10 to 15 epochs seem to be the sweet spot in validation"
   ]
  },
  {
   "cell_type": "markdown",
   "id": "5afc8cdf",
   "metadata": {},
   "source": [
    "Observations:\n",
    "- Definite improvement in validation accuracy\n",
    "- Now hitting close to 70% accuracy and improvement of over 200 basis points\n",
    "- However this was an example CNN model for CIFAR - 10\n",
    "- Consider using keras tuner with CNN to further improve on hyper parameters"
   ]
  },
  {
   "cell_type": "markdown",
   "id": "b22ddbe9",
   "metadata": {},
   "source": [
    "<a id=section6></a>\n",
    "## 6. Hyperparameter Tuning using Keras Tuner"
   ]
  },
  {
   "cell_type": "code",
   "execution_count": 9,
   "id": "310924d6",
   "metadata": {},
   "outputs": [],
   "source": [
    "#!pip install keras-tuner\n",
    "\n",
    "INPUT_SHAPE = (32,32,3)\n",
    "NUM_CLASSES = 10\n",
    "\n",
    "class CNNHyperModel(HyperModel):\n",
    "    def __init__(self, input_shape, num_classes):\n",
    "        self.input_shape = input_shape\n",
    "        self.num_classes = num_classes\n",
    "    \n",
    "    def build(self, hp):\n",
    "        model = keras.Sequential()\n",
    "        model.add(Conv2D(filters = 16, kernel_size = 3, activation = 'relu', input_shape = self.input_shape))\n",
    "        model.add(Conv2D(filters = 16, kernel_size = 3, activation = 'relu'))\n",
    "        model.add(MaxPooling2D(pool_size = 2))\n",
    "        model.add(Dropout(rate = hp.Float('dropout_1', min_value = 0.0, max_value = 0.5, default = 0.25, step = 0.05,)))\n",
    "        model.add(Conv2D(filters = 32, kernel_size = 3, activation = 'relu'))\n",
    "        model.add(Conv2D(filters = hp.Choice('num_filters', values = [32,64], default = 64,), activation = 'relu', kernel_size = 3))\n",
    "        model.add(MaxPooling2D(pool_size = 2))\n",
    "        model.add(Dropout(rate = hp.Float('dropout_2', min_value = 0.0, max_value = 0.5, default = 0.25, step = 0.05,)))\n",
    "        model.add(Flatten())\n",
    "        model.add(Dense(units = hp.Int('units', min_value = 32, max_value = 512, step = 32, default = 128), \n",
    "                        activation = hp.Choice('dense_activation', values = ['relu', 'tanh', 'sigmoid'], default = 'relu')))\n",
    "        model.add(Dropout(rate = hp.Float('dropout_3', min_value = 0.0, max_value = 0.5, default = 0.25, step = 0.05)))\n",
    "        model.add(Dense(self.num_classes, activation = 'softmax'))\n",
    "        model.compile(optimizer = keras.optimizers.Adam(hp.Float('learning_rate', min_value = 1e-4, max_value = 1e-2, sampling = 'LOG', default = 1e-3)),\n",
    "                     loss = 'categorical_crossentropy', metrics = ['accuracy'])\n",
    "        return model\n",
    "\n",
    "hypermodel = CNNHyperModel(input_shape = INPUT_SHAPE, num_classes = NUM_CLASSES)\n",
    "\n",
    "#parameters for search\n",
    "\n",
    "INPUT_SHAPE = (32,32,3)\n",
    "NUM_CLASSES = 10\n",
    "SEED = 1\n",
    "HYPERBAND_MAX_EPOCHS = 40\n",
    "MAX_TRIALS = 20\n",
    "EXECUTION_PER_TRIAL = 2"
   ]
  },
  {
   "cell_type": "markdown",
   "id": "058b0517",
   "metadata": {},
   "source": [
    "<a id=section601></a>\n",
    "### 6.1 Hyperband"
   ]
  },
  {
   "cell_type": "code",
   "execution_count": 12,
   "id": "4aee0a81",
   "metadata": {},
   "outputs": [
    {
     "name": "stdout",
     "output_type": "stream",
     "text": [
      "INFO:tensorflow:Reloading Oracle from existing project hyperband\\cifar10\\oracle.json\n",
      "INFO:tensorflow:Reloading Tuner from hyperband\\cifar10\\tuner0.json\n"
     ]
    }
   ],
   "source": [
    "tuner = Hyperband(hypermodel, \n",
    "                  max_epochs = HYPERBAND_MAX_EPOCHS, \n",
    "                  objective = 'val_accuracy', \n",
    "                  seed = SEED, \n",
    "                  executions_per_trial = EXECUTION_PER_TRIAL, \n",
    "                  directory = 'hyperband', \n",
    "                  project_name = 'cifar10')"
   ]
  },
  {
   "cell_type": "code",
   "execution_count": 35,
   "id": "f5298208",
   "metadata": {},
   "outputs": [
    {
     "name": "stdout",
     "output_type": "stream",
     "text": [
      "Search space summary\n",
      "Default search space size: 7\n",
      "dropout_1 (Float)\n",
      "{'default': 0.25, 'conditions': [], 'min_value': 0.0, 'max_value': 0.5, 'step': 0.05, 'sampling': None}\n",
      "num_filters (Choice)\n",
      "{'default': 64, 'conditions': [], 'values': [32, 64], 'ordered': True}\n",
      "dropout_2 (Float)\n",
      "{'default': 0.25, 'conditions': [], 'min_value': 0.0, 'max_value': 0.5, 'step': 0.05, 'sampling': None}\n",
      "units (Int)\n",
      "{'default': 128, 'conditions': [], 'min_value': 32, 'max_value': 512, 'step': 32, 'sampling': None}\n",
      "dense_activation (Choice)\n",
      "{'default': 'relu', 'conditions': [], 'values': ['relu', 'tanh', 'sigmoid'], 'ordered': False}\n",
      "dropout_3 (Float)\n",
      "{'default': 0.25, 'conditions': [], 'min_value': 0.0, 'max_value': 0.5, 'step': 0.05, 'sampling': None}\n",
      "learning_rate (Float)\n",
      "{'default': 0.001, 'conditions': [], 'min_value': 0.0001, 'max_value': 0.01, 'step': None, 'sampling': 'log'}\n"
     ]
    }
   ],
   "source": [
    "tuner.search_space_summary()"
   ]
  },
  {
   "cell_type": "code",
   "execution_count": 36,
   "id": "6bcae449",
   "metadata": {},
   "outputs": [
    {
     "name": "stdout",
     "output_type": "stream",
     "text": [
      "Trial 90 Complete [00h 06m 25s]\n",
      "val_accuracy: 0.7529999911785126\n",
      "\n",
      "Best val_accuracy So Far: 0.7791000008583069\n",
      "Total elapsed time: 02h 01m 31s\n",
      "INFO:tensorflow:Oracle triggered exit\n"
     ]
    }
   ],
   "source": [
    "N_EPOCH_SEARCH = 40\n",
    "tuner.search(x_train_cnn, train_labels, epochs = N_EPOCH_SEARCH, validation_split = 0.1)"
   ]
  },
  {
   "cell_type": "code",
   "execution_count": 37,
   "id": "5565bd96",
   "metadata": {},
   "outputs": [
    {
     "name": "stdout",
     "output_type": "stream",
     "text": [
      "Results summary\n",
      "Results in hyperband\\cifar10\n",
      "Showing 10 best trials\n",
      "Objective(name='val_accuracy', direction='max')\n",
      "Trial summary\n",
      "Hyperparameters:\n",
      "dropout_1: 0.15000000000000002\n",
      "num_filters: 64\n",
      "dropout_2: 0.4\n",
      "units: 160\n",
      "dense_activation: relu\n",
      "dropout_3: 0.0\n",
      "learning_rate: 0.0006950772468507907\n",
      "tuner/epochs: 40\n",
      "tuner/initial_epoch: 0\n",
      "tuner/bracket: 0\n",
      "tuner/round: 0\n",
      "Score: 0.7791000008583069\n",
      "Trial summary\n",
      "Hyperparameters:\n",
      "dropout_1: 0.35000000000000003\n",
      "num_filters: 64\n",
      "dropout_2: 0.15000000000000002\n",
      "units: 288\n",
      "dense_activation: tanh\n",
      "dropout_3: 0.1\n",
      "learning_rate: 0.00021248812604678072\n",
      "tuner/epochs: 40\n",
      "tuner/initial_epoch: 0\n",
      "tuner/bracket: 0\n",
      "tuner/round: 0\n",
      "Score: 0.7750000059604645\n",
      "Trial summary\n",
      "Hyperparameters:\n",
      "dropout_1: 0.2\n",
      "num_filters: 64\n",
      "dropout_2: 0.25\n",
      "units: 384\n",
      "dense_activation: tanh\n",
      "dropout_3: 0.1\n",
      "learning_rate: 0.0005161743428272905\n",
      "tuner/epochs: 40\n",
      "tuner/initial_epoch: 14\n",
      "tuner/bracket: 3\n",
      "tuner/round: 3\n",
      "tuner/trial_id: 9acae82a93857158493fc1700b3b1d0b\n",
      "Score: 0.7745999991893768\n",
      "Trial summary\n",
      "Hyperparameters:\n",
      "dropout_1: 0.05\n",
      "num_filters: 64\n",
      "dropout_2: 0.45\n",
      "units: 192\n",
      "dense_activation: tanh\n",
      "dropout_3: 0.4\n",
      "learning_rate: 0.000926543735982781\n",
      "tuner/epochs: 40\n",
      "tuner/initial_epoch: 14\n",
      "tuner/bracket: 3\n",
      "tuner/round: 3\n",
      "tuner/trial_id: 3ccc96c4b85463797c5cfd10de723e57\n",
      "Score: 0.7709999978542328\n",
      "Trial summary\n",
      "Hyperparameters:\n",
      "dropout_1: 0.05\n",
      "num_filters: 32\n",
      "dropout_2: 0.4\n",
      "units: 352\n",
      "dense_activation: sigmoid\n",
      "dropout_3: 0.1\n",
      "learning_rate: 0.0006605848990202585\n",
      "tuner/epochs: 40\n",
      "tuner/initial_epoch: 14\n",
      "tuner/bracket: 2\n",
      "tuner/round: 2\n",
      "tuner/trial_id: c4986a9ffbfce34f87032cd0161cbef0\n",
      "Score: 0.7687000036239624\n",
      "Trial summary\n",
      "Hyperparameters:\n",
      "dropout_1: 0.35000000000000003\n",
      "num_filters: 32\n",
      "dropout_2: 0.0\n",
      "units: 448\n",
      "dense_activation: tanh\n",
      "dropout_3: 0.05\n",
      "learning_rate: 0.00041818829630028666\n",
      "tuner/epochs: 40\n",
      "tuner/initial_epoch: 14\n",
      "tuner/bracket: 1\n",
      "tuner/round: 1\n",
      "tuner/trial_id: 3137242ff6c9f49fe3a050d02a8a9214\n",
      "Score: 0.7547000050544739\n",
      "Trial summary\n",
      "Hyperparameters:\n",
      "dropout_1: 0.15000000000000002\n",
      "num_filters: 32\n",
      "dropout_2: 0.15000000000000002\n",
      "units: 512\n",
      "dense_activation: sigmoid\n",
      "dropout_3: 0.1\n",
      "learning_rate: 0.0005293391761557029\n",
      "tuner/epochs: 40\n",
      "tuner/initial_epoch: 0\n",
      "tuner/bracket: 0\n",
      "tuner/round: 0\n",
      "Score: 0.7529999911785126\n",
      "Trial summary\n",
      "Hyperparameters:\n",
      "dropout_1: 0.45\n",
      "num_filters: 64\n",
      "dropout_2: 0.05\n",
      "units: 128\n",
      "dense_activation: relu\n",
      "dropout_3: 0.30000000000000004\n",
      "learning_rate: 0.0002333905935392085\n",
      "tuner/epochs: 40\n",
      "tuner/initial_epoch: 14\n",
      "tuner/bracket: 1\n",
      "tuner/round: 1\n",
      "tuner/trial_id: cbdaf116580b63286ed4bd86e856788f\n",
      "Score: 0.7511999905109406\n",
      "Trial summary\n",
      "Hyperparameters:\n",
      "dropout_1: 0.2\n",
      "num_filters: 64\n",
      "dropout_2: 0.15000000000000002\n",
      "units: 480\n",
      "dense_activation: tanh\n",
      "dropout_3: 0.30000000000000004\n",
      "learning_rate: 0.00011289813322780023\n",
      "tuner/epochs: 40\n",
      "tuner/initial_epoch: 0\n",
      "tuner/bracket: 0\n",
      "tuner/round: 0\n",
      "Score: 0.7497999966144562\n",
      "Trial summary\n",
      "Hyperparameters:\n",
      "dropout_1: 0.30000000000000004\n",
      "num_filters: 64\n",
      "dropout_2: 0.4\n",
      "units: 352\n",
      "dense_activation: sigmoid\n",
      "dropout_3: 0.25\n",
      "learning_rate: 0.0017004031943995508\n",
      "tuner/epochs: 14\n",
      "tuner/initial_epoch: 0\n",
      "tuner/bracket: 1\n",
      "tuner/round: 0\n",
      "Score: 0.74549999833107\n"
     ]
    }
   ],
   "source": [
    "tuner.results_summary()"
   ]
  },
  {
   "cell_type": "code",
   "execution_count": 40,
   "id": "ede210c3",
   "metadata": {},
   "outputs": [
    {
     "name": "stdout",
     "output_type": "stream",
     "text": [
      "313/313 [==============================] - 1s 2ms/step - loss: 0.7400 - accuracy: 0.7622\n"
     ]
    }
   ],
   "source": [
    "best_model = tuner.get_best_models(num_models=1)[0]\n",
    "\n",
    "loss, accuracy = best_model.evaluate(x_test_cnn,test_labels)"
   ]
  },
  {
   "cell_type": "code",
   "execution_count": 41,
   "id": "8b895ba2",
   "metadata": {},
   "outputs": [
    {
     "name": "stdout",
     "output_type": "stream",
     "text": [
      "INFO:tensorflow:Assets written to: optimized_model\\assets\n"
     ]
    }
   ],
   "source": [
    "best_model.save('optimized_model')"
   ]
  },
  {
   "cell_type": "markdown",
   "id": "37717d92",
   "metadata": {},
   "source": [
    "Observations:\n",
    "- Improvement on the basic CNN model by searching for hyperparameters.\n",
    "- Though expensive from a computational standpoint - took over 2 hours to compute, it provided accuracy levels over 76%"
   ]
  },
  {
   "cell_type": "markdown",
   "id": "5b93bf52",
   "metadata": {},
   "source": [
    "<a id=section602></a>\n",
    "### 6.2 Random Search"
   ]
  },
  {
   "cell_type": "code",
   "execution_count": 13,
   "id": "bfdf0a10",
   "metadata": {},
   "outputs": [
    {
     "name": "stdout",
     "output_type": "stream",
     "text": [
      "Search space summary\n",
      "Default search space size: 7\n",
      "dropout_1 (Float)\n",
      "{'default': 0.25, 'conditions': [], 'min_value': 0.0, 'max_value': 0.5, 'step': 0.05, 'sampling': None}\n",
      "num_filters (Choice)\n",
      "{'default': 64, 'conditions': [], 'values': [32, 64], 'ordered': True}\n",
      "dropout_2 (Float)\n",
      "{'default': 0.25, 'conditions': [], 'min_value': 0.0, 'max_value': 0.5, 'step': 0.05, 'sampling': None}\n",
      "units (Int)\n",
      "{'default': 128, 'conditions': [], 'min_value': 32, 'max_value': 512, 'step': 32, 'sampling': None}\n",
      "dense_activation (Choice)\n",
      "{'default': 'relu', 'conditions': [], 'values': ['relu', 'tanh', 'sigmoid'], 'ordered': False}\n",
      "dropout_3 (Float)\n",
      "{'default': 0.25, 'conditions': [], 'min_value': 0.0, 'max_value': 0.5, 'step': 0.05, 'sampling': None}\n",
      "learning_rate (Float)\n",
      "{'default': 0.001, 'conditions': [], 'min_value': 0.0001, 'max_value': 0.01, 'step': None, 'sampling': 'log'}\n"
     ]
    }
   ],
   "source": [
    "tuner = RandomSearch(hypermodel, \n",
    "                     objective = 'val_accuracy', \n",
    "                     seed = SEED, \n",
    "                     max_trials = MAX_TRIALS, \n",
    "                     executions_per_trial = EXECUTION_PER_TRIAL, \n",
    "                     directory = 'random_search',\n",
    "                     project_name = 'cifar10RS')\n",
    "\n",
    "tuner.search_space_summary()"
   ]
  },
  {
   "cell_type": "code",
   "execution_count": 14,
   "id": "6ee3a0ef",
   "metadata": {},
   "outputs": [
    {
     "name": "stdout",
     "output_type": "stream",
     "text": [
      "Trial 20 Complete [00h 06m 14s]\n",
      "val_accuracy: 0.6743000149726868\n",
      "\n",
      "Best val_accuracy So Far: 0.79339998960495\n",
      "Total elapsed time: 02h 06m 04s\n",
      "INFO:tensorflow:Oracle triggered exit\n"
     ]
    }
   ],
   "source": [
    "N_EPOCH_SEARCH = 40\n",
    "tuner.search(x_train_cnn, train_labels, epochs = N_EPOCH_SEARCH, validation_split = 0.1)"
   ]
  },
  {
   "cell_type": "code",
   "execution_count": 15,
   "id": "798791da",
   "metadata": {},
   "outputs": [
    {
     "name": "stdout",
     "output_type": "stream",
     "text": [
      "Results summary\n",
      "Results in random_search\\cifar10RS\n",
      "Showing 10 best trials\n",
      "Objective(name='val_accuracy', direction='max')\n",
      "Trial summary\n",
      "Hyperparameters:\n",
      "dropout_1: 0.2\n",
      "num_filters: 64\n",
      "dropout_2: 0.25\n",
      "units: 384\n",
      "dense_activation: tanh\n",
      "dropout_3: 0.1\n",
      "learning_rate: 0.0005161743428272905\n",
      "Score: 0.79339998960495\n",
      "Trial summary\n",
      "Hyperparameters:\n",
      "dropout_1: 0.0\n",
      "num_filters: 32\n",
      "dropout_2: 0.30000000000000004\n",
      "units: 288\n",
      "dense_activation: tanh\n",
      "dropout_3: 0.2\n",
      "learning_rate: 0.0009719978423652108\n",
      "Score: 0.7608000040054321\n",
      "Trial summary\n",
      "Hyperparameters:\n",
      "dropout_1: 0.1\n",
      "num_filters: 64\n",
      "dropout_2: 0.30000000000000004\n",
      "units: 256\n",
      "dense_activation: tanh\n",
      "dropout_3: 0.15000000000000002\n",
      "learning_rate: 0.00016355245798526342\n",
      "Score: 0.7603999972343445\n",
      "Trial summary\n",
      "Hyperparameters:\n",
      "dropout_1: 0.35000000000000003\n",
      "num_filters: 32\n",
      "dropout_2: 0.05\n",
      "units: 160\n",
      "dense_activation: tanh\n",
      "dropout_3: 0.4\n",
      "learning_rate: 0.0009172617171127613\n",
      "Score: 0.7577999830245972\n",
      "Trial summary\n",
      "Hyperparameters:\n",
      "dropout_1: 0.05\n",
      "num_filters: 32\n",
      "dropout_2: 0.1\n",
      "units: 160\n",
      "dense_activation: sigmoid\n",
      "dropout_3: 0.4\n",
      "learning_rate: 0.0004442889681244208\n",
      "Score: 0.7540999948978424\n",
      "Trial summary\n",
      "Hyperparameters:\n",
      "dropout_1: 0.25\n",
      "num_filters: 64\n",
      "dropout_2: 0.0\n",
      "units: 64\n",
      "dense_activation: sigmoid\n",
      "dropout_3: 0.25\n",
      "learning_rate: 0.0012513800047239778\n",
      "Score: 0.747899979352951\n",
      "Trial summary\n",
      "Hyperparameters:\n",
      "dropout_1: 0.0\n",
      "num_filters: 32\n",
      "dropout_2: 0.1\n",
      "units: 192\n",
      "dense_activation: tanh\n",
      "dropout_3: 0.45\n",
      "learning_rate: 0.0007767449713530701\n",
      "Score: 0.7423000037670135\n",
      "Trial summary\n",
      "Hyperparameters:\n",
      "dropout_1: 0.0\n",
      "num_filters: 64\n",
      "dropout_2: 0.15000000000000002\n",
      "units: 448\n",
      "dense_activation: tanh\n",
      "dropout_3: 0.25\n",
      "learning_rate: 0.00013607174450468629\n",
      "Score: 0.7364000082015991\n",
      "Trial summary\n",
      "Hyperparameters:\n",
      "dropout_1: 0.1\n",
      "num_filters: 32\n",
      "dropout_2: 0.05\n",
      "units: 224\n",
      "dense_activation: relu\n",
      "dropout_3: 0.1\n",
      "learning_rate: 0.00014690651027379393\n",
      "Score: 0.7346999943256378\n",
      "Trial summary\n",
      "Hyperparameters:\n",
      "dropout_1: 0.25\n",
      "num_filters: 32\n",
      "dropout_2: 0.25\n",
      "units: 64\n",
      "dense_activation: tanh\n",
      "dropout_3: 0.45\n",
      "learning_rate: 0.0013968619216753887\n",
      "Score: 0.7333999872207642\n"
     ]
    }
   ],
   "source": [
    "tuner.results_summary()"
   ]
  },
  {
   "cell_type": "code",
   "execution_count": 16,
   "id": "e266f17d",
   "metadata": {},
   "outputs": [
    {
     "name": "stdout",
     "output_type": "stream",
     "text": [
      "313/313 [==============================] - 1s 2ms/step - loss: 0.6848 - accuracy: 0.7808\n",
      "INFO:tensorflow:Assets written to: optimized_modelRS\\assets\n"
     ]
    }
   ],
   "source": [
    "best_model = tuner.get_best_models(num_models=1)[0]\n",
    "\n",
    "loss, accuracy = best_model.evaluate(x_test_cnn,test_labels)\n",
    "\n",
    "best_model.save('optimized_modelRS')"
   ]
  },
  {
   "cell_type": "markdown",
   "id": "8acbdaa2",
   "metadata": {},
   "source": [
    "Observations:\n",
    "- Random Search method provided improvement on Hyperband search\n",
    "- Accuracy  has now hit to over 78%\n",
    "- Computationally remains expensive with higher computation time than hyperband."
   ]
  },
  {
   "cell_type": "markdown",
   "id": "09af2f6c",
   "metadata": {},
   "source": [
    "<a id=section603></a>\n",
    "### 6.3 Bayesian Optimization"
   ]
  },
  {
   "cell_type": "code",
   "execution_count": 17,
   "id": "6c44a774",
   "metadata": {},
   "outputs": [
    {
     "name": "stdout",
     "output_type": "stream",
     "text": [
      "Search space summary\n",
      "Default search space size: 7\n",
      "dropout_1 (Float)\n",
      "{'default': 0.25, 'conditions': [], 'min_value': 0.0, 'max_value': 0.5, 'step': 0.05, 'sampling': None}\n",
      "num_filters (Choice)\n",
      "{'default': 64, 'conditions': [], 'values': [32, 64], 'ordered': True}\n",
      "dropout_2 (Float)\n",
      "{'default': 0.25, 'conditions': [], 'min_value': 0.0, 'max_value': 0.5, 'step': 0.05, 'sampling': None}\n",
      "units (Int)\n",
      "{'default': 128, 'conditions': [], 'min_value': 32, 'max_value': 512, 'step': 32, 'sampling': None}\n",
      "dense_activation (Choice)\n",
      "{'default': 'relu', 'conditions': [], 'values': ['relu', 'tanh', 'sigmoid'], 'ordered': False}\n",
      "dropout_3 (Float)\n",
      "{'default': 0.25, 'conditions': [], 'min_value': 0.0, 'max_value': 0.5, 'step': 0.05, 'sampling': None}\n",
      "learning_rate (Float)\n",
      "{'default': 0.001, 'conditions': [], 'min_value': 0.0001, 'max_value': 0.01, 'step': None, 'sampling': 'log'}\n"
     ]
    }
   ],
   "source": [
    "# Bayesian Optimization\n",
    "\n",
    "\n",
    "\n",
    "tuner = BayesianOptimization(hypermodel,\n",
    "                             objective = 'val_accuracy',\n",
    "                             seed = SEED,\n",
    "                             max_trials = MAX_TRIALS, \n",
    "                             executions_per_trial = EXECUTION_PER_TRIAL, \n",
    "                             directory = 'BayesianOptimization',\n",
    "                             project_name = 'cifar10BO')\n",
    "\n",
    "tuner.search_space_summary()"
   ]
  },
  {
   "cell_type": "code",
   "execution_count": 18,
   "id": "22735f9c",
   "metadata": {},
   "outputs": [
    {
     "name": "stdout",
     "output_type": "stream",
     "text": [
      "Trial 20 Complete [00h 06m 22s]\n",
      "val_accuracy: 0.7404000163078308\n",
      "\n",
      "Best val_accuracy So Far: 0.7714000046253204\n",
      "Total elapsed time: 02h 06m 13s\n",
      "INFO:tensorflow:Oracle triggered exit\n"
     ]
    }
   ],
   "source": [
    "N_EPOCH_SEARCH = 40\n",
    "tuner.search(x_train_cnn, train_labels, epochs = N_EPOCH_SEARCH, validation_split = 0.1)"
   ]
  },
  {
   "cell_type": "code",
   "execution_count": 19,
   "id": "7bde1982",
   "metadata": {},
   "outputs": [
    {
     "name": "stdout",
     "output_type": "stream",
     "text": [
      "Results summary\n",
      "Results in BayesianOptimization\\cifar10BO\n",
      "Showing 10 best trials\n",
      "Objective(name='val_accuracy', direction='max')\n",
      "Trial summary\n",
      "Hyperparameters:\n",
      "dropout_1: 0.15000000000000002\n",
      "num_filters: 64\n",
      "dropout_2: 0.2\n",
      "units: 224\n",
      "dense_activation: tanh\n",
      "dropout_3: 0.1\n",
      "learning_rate: 0.000180916041657174\n",
      "Score: 0.7714000046253204\n",
      "Trial summary\n",
      "Hyperparameters:\n",
      "dropout_1: 0.1\n",
      "num_filters: 64\n",
      "dropout_2: 0.30000000000000004\n",
      "units: 256\n",
      "dense_activation: tanh\n",
      "dropout_3: 0.15000000000000002\n",
      "learning_rate: 0.00016355245798526342\n",
      "Score: 0.7635000050067902\n",
      "Trial summary\n",
      "Hyperparameters:\n",
      "dropout_1: 0.0\n",
      "num_filters: 64\n",
      "dropout_2: 0.5\n",
      "units: 512\n",
      "dense_activation: relu\n",
      "dropout_3: 0.45\n",
      "learning_rate: 0.0014300297000164705\n",
      "Score: 0.761000007390976\n",
      "Trial summary\n",
      "Hyperparameters:\n",
      "dropout_1: 0.0\n",
      "num_filters: 64\n",
      "dropout_2: 0.5\n",
      "units: 512\n",
      "dense_activation: relu\n",
      "dropout_3: 0.2\n",
      "learning_rate: 0.0001\n",
      "Score: 0.7601000070571899\n",
      "Trial summary\n",
      "Hyperparameters:\n",
      "dropout_1: 0.25\n",
      "num_filters: 64\n",
      "dropout_2: 0.45\n",
      "units: 384\n",
      "dense_activation: relu\n",
      "dropout_3: 0.0\n",
      "learning_rate: 0.0001\n",
      "Score: 0.7597000002861023\n",
      "Trial summary\n",
      "Hyperparameters:\n",
      "dropout_1: 0.15000000000000002\n",
      "num_filters: 64\n",
      "dropout_2: 0.15000000000000002\n",
      "units: 480\n",
      "dense_activation: relu\n",
      "dropout_3: 0.1\n",
      "learning_rate: 0.0001\n",
      "Score: 0.7581000030040741\n",
      "Trial summary\n",
      "Hyperparameters:\n",
      "dropout_1: 0.0\n",
      "num_filters: 64\n",
      "dropout_2: 0.25\n",
      "units: 512\n",
      "dense_activation: relu\n",
      "dropout_3: 0.5\n",
      "learning_rate: 0.0001\n",
      "Score: 0.7551999986171722\n",
      "Trial summary\n",
      "Hyperparameters:\n",
      "dropout_1: 0.30000000000000004\n",
      "num_filters: 64\n",
      "dropout_2: 0.45\n",
      "units: 512\n",
      "dense_activation: relu\n",
      "dropout_3: 0.35000000000000003\n",
      "learning_rate: 0.0001\n",
      "Score: 0.75450000166893\n",
      "Trial summary\n",
      "Hyperparameters:\n",
      "dropout_1: 0.05\n",
      "num_filters: 32\n",
      "dropout_2: 0.1\n",
      "units: 160\n",
      "dense_activation: sigmoid\n",
      "dropout_3: 0.4\n",
      "learning_rate: 0.0004442889681244208\n",
      "Score: 0.7509999871253967\n",
      "Trial summary\n",
      "Hyperparameters:\n",
      "dropout_1: 0.0\n",
      "num_filters: 64\n",
      "dropout_2: 0.5\n",
      "units: 512\n",
      "dense_activation: relu\n",
      "dropout_3: 0.05\n",
      "learning_rate: 0.001790978543526501\n",
      "Score: 0.7484000027179718\n"
     ]
    }
   ],
   "source": [
    "tuner.results_summary()"
   ]
  },
  {
   "cell_type": "code",
   "execution_count": 20,
   "id": "7ef2ed5d",
   "metadata": {},
   "outputs": [
    {
     "name": "stdout",
     "output_type": "stream",
     "text": [
      "313/313 [==============================] - 1s 2ms/step - loss: 0.6936 - accuracy: 0.7646\n",
      "INFO:tensorflow:Assets written to: optimized_modelBO\\assets\n"
     ]
    }
   ],
   "source": [
    "best_model = tuner.get_best_models(num_models=1)[0]\n",
    "\n",
    "loss, accuracy = best_model.evaluate(x_test_cnn,test_labels)\n",
    "\n",
    "best_model.save('optimized_modelBO')"
   ]
  },
  {
   "cell_type": "markdown",
   "id": "a8c81de0",
   "metadata": {},
   "source": [
    "Observations:\n",
    "- Bayesian Optimization produced slightly lower accuracy than Random Search\n",
    "- Remained computationally expensive - with compute times in excess of 2 hours"
   ]
  },
  {
   "cell_type": "markdown",
   "id": "4aeee0bc",
   "metadata": {},
   "source": [
    "<a id=section7></a>\n",
    "## 7. In-Conclusion & Next Steps"
   ]
  },
  {
   "cell_type": "markdown",
   "id": "7b2fd4a2",
   "metadata": {},
   "source": [
    "<a id=section701></a>\n",
    "### 7.1 Analysis of Various Models\n",
    "\n",
    "|Model|Accuracy|Loss|Compute-Time|\n",
    "|---|---|---|---|\n",
    "| Simple ANN | ~50% | 1.5 & Rising | Marginal |\n",
    "| Using CNN | ~70% | 1.0 & Rising | Marginal |\n",
    "| Hyperband | 76.22% | .74 | 02:01:31|\n",
    "| Random Search | 78.08% | .68 | 02:06:04 |\n",
    "| Bayesian Optimization | 76.46% | .69 | 02:06:13|\n",
    "\n",
    "Hence quite apparently the winner is Random Search and I was able to achieve a 78% accuracy on the test data for this project.\n"
   ]
  },
  {
   "cell_type": "markdown",
   "id": "29e981ef",
   "metadata": {},
   "source": [
    "<a id=section702></a>\n",
    "### 7.2 Visualizing Predictions on Test Set"
   ]
  },
  {
   "cell_type": "code",
   "execution_count": 42,
   "id": "ad067c19",
   "metadata": {},
   "outputs": [
    {
     "name": "stdout",
     "output_type": "stream",
     "text": [
      " Volume in drive C is OS\n",
      " Volume Serial Number is A2B7-EBDA\n",
      "\n",
      " Directory of C:\\Users\\ariji\\Documents\\Python\\INSAID Data Science\\Artificial Intelligence\\Deep Learning Foundation\\Project\\Deep Learning Foundation Projects\\CIFAR-10\\optimized_model\n",
      "\n",
      "17-06-2021  12:44    <DIR>          .\n",
      "17-06-2021  12:44    <DIR>          ..\n",
      "17-06-2021  12:44    <DIR>          assets\n",
      "17-06-2021  12:44            22,342 keras_metadata.pb\n",
      "17-06-2021  12:44           214,023 saved_model.pb\n",
      "17-06-2021  12:44    <DIR>          variables\n",
      "               2 File(s)        236,365 bytes\n",
      "               4 Dir(s)  362,414,743,552 bytes free\n"
     ]
    }
   ],
   "source": [
    "ls optimized_model"
   ]
  },
  {
   "cell_type": "code",
   "execution_count": 50,
   "id": "7ef77bac",
   "metadata": {},
   "outputs": [
    {
     "name": "stdout",
     "output_type": "stream",
     "text": [
      "Pic no -> 230062\n",
      "(32, 32, 3)\n",
      "This image is predicted by the system is a truck\n"
     ]
    },
    {
     "data": {
      "text/plain": [
       "'C:\\\\Users\\\\ariji\\\\Documents\\\\Python\\\\INSAID Data Science\\\\Artificial Intelligence\\\\Deep Learning Foundation\\\\Project\\\\Deep Learning Foundation Projects\\\\CIFAR-10'"
      ]
     },
     "execution_count": 50,
     "metadata": {},
     "output_type": "execute_result"
    },
    {
     "data": {
      "image/png": "[encoded data removed]",
      "text/plain": [
       "<Figure size 432x288 with 1 Axes>"
      ]
     },
     "metadata": {
      "needs_background": "light"
     },
     "output_type": "display_data"
    }
   ],
   "source": [
    "model3 = tf.keras.models.load_model('optimized_model')\n",
    "\n",
    "nums = [0,1,2,3,4,5,6,7,8,9]\n",
    "classes = ['airplane', 'automobile', 'bird', 'cat', 'deer', 'dog', 'frog', 'horse', 'ship', 'truck']\n",
    "p = dict(zip(nums, classes))\n",
    "\n",
    "directory = os.getcwd()\n",
    "test_data = directory + '\\\\test'\n",
    "os.chdir(test_data)\n",
    "#place code here\n",
    "i=random.randint(0,300000)\n",
    "print('Pic no ->', i)\n",
    "image = Image.open(str(i)+'.png')\n",
    "plt.imshow(image)\n",
    "image_arr = img_to_array(image)\n",
    "print(image_arr.shape)\n",
    "input_image = image_arr.reshape(1,32,32,3)\n",
    "pred = np.argmax(model3.predict(input_image), axis = -1)[0]\n",
    "print('This image is predicted by the system is a {}'. format(p[pred]))\n",
    "\n",
    "os.chdir(directory)\n",
    "os.getcwd()"
   ]
  },
  {
   "cell_type": "markdown",
   "id": "79e51a7f",
   "metadata": {},
   "source": [
    "<a id=section703></a>\n",
    "### 7.3 Concluding Points & Way Forward\n",
    "\n",
    "<br>\n",
    "Overall the common concensus is that the CIFAR 10 dataset is a widely understood dataset. Unfortunately for me accuracy on CIFAR - 10 dataset has achieved 99.7% accuracy on the test data using, sharpness-awareness minimization techniques.  However, this is an opportunity to learn other modeling techniques LaNET which has led to significant improvemnets in accuracy over traditional CNN techqniues since the 1970s.\n",
    "<br>\n",
    "<center><img src=\"https://github.com/ArijitChakrabarti/Cifar-10-Deep-Learning-FoundationKeras-Tuner-Arijit/blob/main/cifar%2010%20accuracy.JPG?raw=true\" /></center>\n",
    "<br>\n",
    "However it gives me great pride to have been able to use optimization techiques launched by Keras i.e. Keras-Tuner as late as 2019 and be able to improve the model accuracy in a few simple steps. With an 80% accuracy - there are still mistakes that the model makes as far as classification is concerned, but it improves vastly over the initial Simple ANN model - which provided only near random accuracy.\n",
    "<br>\n",
    "<br>\n",
    "I have managed to install CUDA in my local system and all the results are based off effectively one of the fastes graphics cards on the planet -  the RTX 3080. With over 10 GB of RAM and over 272 tensor cores - I could achieve significant reduction in compute times. Traditionally on an RTX 2080 the same calculations (on the previous generation graphics card) would have taken over 10 hours each.  Hence implying the generational improvement in hardware will effectively allow for improved capabilities with data and not just from a software / algorithmic point of view.\n",
    "<br>\n",
    "<br>\n",
    "Not only that the world has already moved towards the CIFAR 100 data set and look forward to working on the same as my understanding on image recognition / classfication improves."
   ]
  },
  {
   "cell_type": "code",
   "execution_count": null,
   "id": "4d5289bc",
   "metadata": {},
   "outputs": [],
   "source": []
  }
 ],
 "metadata": {
  "kernelspec": {
   "display_name": "Python 3",
   "language": "python",
   "name": "python3"
  },
  "language_info": {
   "codemirror_mode": {
    "name": "ipython",
    "version": 3
   },
   "file_extension": ".py",
   "mimetype": "text/x-python",
   "name": "python",
   "nbconvert_exporter": "python",
   "pygments_lexer": "ipython3",
   "version": "3.7.10"
  }
 },
 "nbformat": 4,
 "nbformat_minor": 5
}
